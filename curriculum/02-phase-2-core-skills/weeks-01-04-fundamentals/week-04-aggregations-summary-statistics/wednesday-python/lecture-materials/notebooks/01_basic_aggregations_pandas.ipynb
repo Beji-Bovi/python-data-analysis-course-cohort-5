{
 "cells": [
  {
   "cell_type": "markdown",
   "metadata": {},
   "source": [
    "# Week 4: Python Aggregations & Summary Statistics - Part 1\n",
    "## From Excel SUMIF/COUNTIF to Pandas GroupBy\n",
    "\n",
    "**Wednesday Python Class - September 3, 2025**  \n",
    "**Business Context**: Sales Performance Analysis using Olist E-commerce Data  \n",
    "**Excel Concepts**: SUMIF, COUNTIF, AVERAGEIF functions\n",
    "\n",
    "---\n",
    "\n",
    "### Learning Objectives:\n",
    "1. Master basic pandas aggregation functions (sum, count, mean, min, max)\n",
    "2. Understand value_counts() for frequency analysis\n",
    "3. Use describe() for comprehensive statistical summaries\n",
    "4. Bridge from Excel SUMIF/COUNTIF thinking to pandas GroupBy operations\n",
    "\n",
    "### Today's Business Challenge:\n",
    "As a data analyst for a Nigerian e-commerce startup, you need to analyze regional sales performance, similar to what companies like Jumia or Konga would do. We'll use real Brazilian marketplace data (Olist) as our case study."
   ]
  },
  {
   "cell_type": "markdown",
   "metadata": {},
   "source": [
    "## Section 1: Setup and Data Loading"
   ]
  },
  {
   "cell_type": "code",
   "execution_count": null,
   "metadata": {},
   "outputs": [],
   "source": [
    "# Import essential libraries\n",
    "import pandas as pd\n",
    "import numpy as np\n",
    "import matplotlib.pyplot as plt\n",
    "import seaborn as sns\n",
    "from datetime import datetime\n",
    "import warnings\n",
    "warnings.filterwarnings('ignore')\n",
    "\n",
    "# Configure pandas display options\n",
    "pd.set_option('display.max_columns', None)\n",
    "pd.set_option('display.float_format', '{:.2f}'.format)\n",
    "\n",
    "print(\"Libraries imported successfully!\")\n",
    "print(f\"Pandas version: {pd.__version__}\")\n",
    "print(f\"NumPy version: {np.__version__}\")"
   ]
  },
  {
   "cell_type": "code",
   "execution_count": null,
   "metadata": {},
   "outputs": [],
   "source": [
    "# Load the Olist sample dataset\n",
    "# In a real scenario, you'd download the full dataset from GitHub\n",
    "data_path = '../datasets/olist_sample_data.csv'\n",
    "df = pd.read_csv(data_path)\n",
    "\n",
    "# Convert date column to datetime\n",
    "df['order_date'] = pd.to_datetime(df['order_date'])\n",
    "\n",
    "print(f\"Dataset loaded successfully!\")\n",
    "print(f\"Shape: {df.shape} (rows, columns)\")\n",
    "print(f\"\\nColumn names: {list(df.columns)}\")"
   ]
  },
  {
   "cell_type": "code",
   "execution_count": null,
   "metadata": {},
   "outputs": [],
   "source": [
    "# Explore the dataset structure\n",
    "print(\"=== DATASET OVERVIEW ===\")\n",
    "print(df.head())\n",
    "print(\"\\n=== DATA TYPES ===\")\n",
    "print(df.dtypes)\n",
    "print(\"\\n=== BASIC STATISTICS ===\")\n",
    "print(df.describe())"
   ]
  },
  {
   "cell_type": "markdown",
   "metadata": {},
   "source": [
    "## Section 2: From Excel Functions to Pandas - Conceptual Bridge\n",
    "\n",
    "### Excel vs Pandas Comparison:\n",
    "\n",
    "| Excel Function | Purpose | Pandas Equivalent |\n",
    "|----------------|---------|-------------------|\n",
    "| `SUMIF(range, criteria, sum_range)` | Sum with condition | `df[condition]['column'].sum()` |\n",
    "| `COUNTIF(range, criteria)` | Count with condition | `df[condition].shape[0]` or `value_counts()` |\n",
    "| `AVERAGEIF(range, criteria, avg_range)` | Average with condition | `df[condition]['column'].mean()` |\n",
    "| Pivot Table | Summarize by categories | `df.groupby().agg()` |\n",
    "\n",
    "Let's see these concepts in action!"
   ]
  },
  {
   "cell_type": "markdown",
   "metadata": {},
   "source": [
    "## Section 3: Basic Aggregation Functions"
   ]
  },
  {
   "cell_type": "markdown",
   "metadata": {},
   "source": [
    "### 3.1 Simple Aggregations - The Excel SUMIF Equivalent"
   ]
  },
  {
   "cell_type": "code",
   "execution_count": null,
   "metadata": {},
   "outputs": [],
   "source": [
    "# Business Question: What's our total revenue and order count?\n",
    "# Excel equivalent: SUM(price_column) and COUNT(order_column)\n",
    "\n",
    "total_revenue = df['price'].sum()\n",
    "total_orders = df.shape[0]  # Number of rows\n",
    "avg_order_value = df['price'].mean()\n",
    "\n",
    "print(\"=== OVERALL BUSINESS METRICS ===\")\n",
    "print(f\"Total Revenue: R$ {total_revenue:,.2f}\")\n",
    "print(f\"Total Orders: {total_orders:,}\")\n",
    "print(f\"Average Order Value: R$ {avg_order_value:.2f}\")\n",
    "\n",
    "# Additional insights\n",
    "min_order = df['price'].min()\n",
    "max_order = df['price'].max()\n",
    "median_order = df['price'].median()\n",
    "\n",
    "print(f\"\\nOrder Value Range:\")\n",
    "print(f\"Minimum: R$ {min_order:.2f}\")\n",
    "print(f\"Maximum: R$ {max_order:.2f}\")\n",
    "print(f\"Median: R$ {median_order:.2f}\")"
   ]
  },
  {
   "cell_type": "markdown",
   "metadata": {},
   "source": [
    "### 3.2 Conditional Aggregations - Excel SUMIF/COUNTIF in Action"
   ]
  },
  {
   "cell_type": "code",
   "execution_count": null,
   "metadata": {},
   "outputs": [],
   "source": [
    "# Business Question: How much revenue comes from high-value orders (>= R$150)?\n",
    "# Excel equivalent: SUMIF(price_column, \">=150\", price_column)\n",
    "\n",
    "# Method 1: Using boolean indexing (most common)\n",
    "high_value_orders = df[df['price'] >= 150]\n",
    "high_value_revenue = high_value_orders['price'].sum()\n",
    "high_value_count = high_value_orders.shape[0]\n",
    "\n",
    "print(\"=== HIGH-VALUE ORDERS ANALYSIS (>= R$150) ===\")\n",
    "print(f\"High-value orders: {high_value_count} ({high_value_count/total_orders*100:.1f}% of total)\")\n",
    "print(f\"High-value revenue: R$ {high_value_revenue:,.2f} ({high_value_revenue/total_revenue*100:.1f}% of total)\")\n",
    "print(f\"Average high-value order: R$ {high_value_orders['price'].mean():.2f}\")\n",
    "\n",
    "# Method 2: Using query method (alternative approach)\n",
    "high_value_query = df.query('price >= 150')\n",
    "print(f\"\\nVerification using query method: {high_value_query.shape[0]} orders\")"
   ]
  },
  {
   "cell_type": "code",
   "execution_count": null,
   "metadata": {},
   "outputs": [],
   "source": [
    "# Business Question: Compare performance across different price segments\n",
    "# This is like having multiple SUMIF formulas for different conditions\n",
    "\n",
    "def analyze_price_segment(df, min_price, max_price, segment_name):\n",
    "    \"\"\"Function to analyze a specific price segment\"\"\"\n",
    "    if max_price == float('inf'):\n",
    "        segment_data = df[df['price'] >= min_price]\n",
    "        condition_text = f\">= R${min_price}\"\n",
    "    else:\n",
    "        segment_data = df[(df['price'] >= min_price) & (df['price'] < max_price)]\n",
    "        condition_text = f\"R${min_price} - R${max_price-0.01}\"\n",
    "    \n",
    "    count = segment_data.shape[0]\n",
    "    revenue = segment_data['price'].sum()\n",
    "    avg_value = segment_data['price'].mean() if count > 0 else 0\n",
    "    \n",
    "    return {\n",
    "        'segment': segment_name,\n",
    "        'price_range': condition_text,\n",
    "        'orders': count,\n",
    "        'revenue': revenue,\n",
    "        'avg_order_value': avg_value,\n",
    "        'revenue_share': revenue/total_revenue*100 if total_revenue > 0 else 0\n",
    "    }\n",
    "\n",
    "# Define price segments (Nigerian context: Budget, Standard, Premium, Luxury)\n",
    "segments = [\n",
    "    analyze_price_segment(df, 0, 100, 'Budget'),\n",
    "    analyze_price_segment(df, 100, 200, 'Standard'),\n",
    "    analyze_price_segment(df, 200, 300, 'Premium'),\n",
    "    analyze_price_segment(df, 300, float('inf'), 'Luxury')\n",
    "]\n",
    "\n",
    "# Display results\n",
    "print(\"=== PRICE SEGMENT ANALYSIS ===\")\n",
    "for segment in segments:\n",
    "    print(f\"\\n{segment['segment']} ({segment['price_range']}):\")\n",
    "    print(f\"  Orders: {segment['orders']:,} ({segment['orders']/total_orders*100:.1f}%)\")\n",
    "    print(f\"  Revenue: R$ {segment['revenue']:,.2f} ({segment['revenue_share']:.1f}%)\")\n",
    "    print(f\"  Avg Order Value: R$ {segment['avg_order_value']:.2f}\")"
   ]
  },
  {
   "cell_type": "markdown",
   "metadata": {},
   "source": [
    "## Section 4: Value Counts - The Excel COUNTIF Super Power"
   ]
  },
  {
   "cell_type": "code",
   "execution_count": null,
   "metadata": {},
   "outputs": [],
   "source": [
    "# Business Question: How are our orders distributed across states?\n",
    "# Excel equivalent: Multiple COUNTIF formulas for each state\n",
    "\n",
    "print(\"=== STATE-WISE ORDER DISTRIBUTION ===\")\n",
    "state_counts = df['customer_state'].value_counts()\n",
    "print(state_counts)\n",
    "\n",
    "# Show as percentages\n",
    "print(\"\\n=== STATE-WISE PERCENTAGE DISTRIBUTION ===\")\n",
    "state_percentages = df['customer_state'].value_counts(normalize=True) * 100\n",
    "print(state_percentages.round(1))\n",
    "\n",
    "# Combine counts and percentages\n",
    "print(\"\\n=== COMBINED STATE ANALYSIS ===\")\n",
    "state_analysis = pd.DataFrame({\n",
    "    'orders': state_counts,\n",
    "    'percentage': state_percentages.round(1)\n",
    "})\n",
    "print(state_analysis)"
   ]
  },
  {
   "cell_type": "code",
   "execution_count": null,
   "metadata": {},
   "outputs": [],
   "source": [
    "# Business Question: What are our most popular product categories?\n",
    "# Nigerian context: Similar to analyzing Jumia's category performance\n",
    "\n",
    "print(\"=== PRODUCT CATEGORY POPULARITY ===\")\n",
    "category_counts = df['category'].value_counts()\n",
    "print(category_counts.head(10))  # Top 10 categories\n",
    "\n",
    "# Visualize category distribution\n",
    "plt.figure(figsize=(12, 6))\n",
    "category_counts.head(10).plot(kind='bar')\n",
    "plt.title('Top 10 Product Categories by Order Count')\n",
    "plt.xlabel('Product Category')\n",
    "plt.ylabel('Number of Orders')\n",
    "plt.xticks(rotation=45)\n",
    "plt.tight_layout()\n",
    "plt.show()\n",
    "\n",
    "# Business insight: Category performance\n",
    "total_categories = df['category'].nunique()\n",
    "top_5_share = category_counts.head(5).sum() / category_counts.sum() * 100\n",
    "print(f\"\\nBusiness Insights:\")\n",
    "print(f\"Total unique categories: {total_categories}\")\n",
    "print(f\"Top 5 categories represent {top_5_share:.1f}% of all orders\")"
   ]
  },
  {
   "cell_type": "markdown",
   "metadata": {},
   "source": [
    "## Section 5: The describe() Method - Your Statistical Summary Assistant"
   ]
  },
  {
   "cell_type": "code",
   "execution_count": null,
   "metadata": {},
   "outputs": [],
   "source": [
    "# Business Question: What's the complete statistical profile of our key metrics?\n",
    "# This gives you count, mean, std, min, 25%, 50%, 75%, max - all at once!\n",
    "\n",
    "print(\"=== COMPREHENSIVE STATISTICAL SUMMARY ===\")\n",
    "numeric_summary = df[['price', 'freight_value', 'review_score']].describe()\n",
    "print(numeric_summary)\n",
    "\n",
    "# Custom percentiles for business analysis\n",
    "print(\"\\n=== BUSINESS-FOCUSED PERCENTILES ===\")\n",
    "business_percentiles = df[['price', 'freight_value']].describe(percentiles=[0.1, 0.25, 0.5, 0.75, 0.9, 0.95])\n",
    "print(business_percentiles)\n",
    "\n",
    "# Interpretation for business stakeholders\n",
    "price_stats = df['price'].describe()\n",
    "print(f\"\\n=== BUSINESS INTERPRETATION ===\")\n",
    "print(f\"Price Analysis:\")\n",
    "print(f\"• 50% of orders are below R$ {price_stats['50%']:.2f} (median)\")\n",
    "print(f\"• 75% of orders are below R$ {price_stats['75%']:.2f} (Q3)\")\n",
    "print(f\"• Top 25% of orders start from R$ {price_stats['75%']:.2f}\")\n",
    "print(f\"• Standard deviation: R$ {price_stats['std']:.2f} (price variability)\")"
   ]
  },
  {
   "cell_type": "code",
   "execution_count": null,
   "metadata": {},
   "outputs": [],
   "source": [
    "# Describe by categories (like Excel pivot table summaries)\n",
    "print(\"=== DESCRIBE BY CUSTOMER STATE ===\")\n",
    "state_price_summary = df.groupby('customer_state')['price'].describe()\n",
    "print(state_price_summary)\n",
    "\n",
    "# Focus on key states for business decisions\n",
    "top_states = df['customer_state'].value_counts().head(3).index\n",
    "print(f\"\\n=== TOP 3 STATES DETAILED ANALYSIS ===\")\n",
    "for state in top_states:\n",
    "    state_data = df[df['customer_state'] == state]['price']\n",
    "    print(f\"\\n{state} State:\")\n",
    "    print(f\"  Average order value: R$ {state_data.mean():.2f}\")\n",
    "    print(f\"  Median order value: R$ {state_data.median():.2f}\")\n",
    "    print(f\"  Order count: {len(state_data):,}\")\n",
    "    print(f\"  Revenue contribution: R$ {state_data.sum():,.2f}\")"
   ]
  },
  {
   "cell_type": "markdown",
   "metadata": {},
   "source": [
    "## Section 6: Introduction to GroupBy - Excel Pivot Table Power"
   ]
  },
  {
   "cell_type": "code",
   "execution_count": null,
   "metadata": {},
   "outputs": [],
   "source": [
    "# Business Question: How does performance vary by customer state?\n",
    "# Excel equivalent: Pivot table with State as rows, sum/count/average as values\n",
    "\n",
    "print(\"=== STATE PERFORMANCE ANALYSIS ===\")\n",
    "state_performance = df.groupby('customer_state').agg({\n",
    "    'price': ['count', 'sum', 'mean', 'median'],\n",
    "    'freight_value': 'mean',\n",
    "    'review_score': 'mean'\n",
    "}).round(2)\n",
    "\n",
    "# Flatten column names for easier reading\n",
    "state_performance.columns = ['Order_Count', 'Total_Revenue', 'Avg_Price', 'Median_Price', 'Avg_Freight', 'Avg_Rating']\n",
    "state_performance = state_performance.sort_values('Total_Revenue', ascending=False)\n",
    "\n",
    "print(state_performance)\n",
    "\n",
    "# Business insights\n",
    "print(f\"\\n=== BUSINESS INSIGHTS ===\")\n",
    "top_revenue_state = state_performance.index[0]\n",
    "highest_aov_state = state_performance['Avg_Price'].idxmax()\n",
    "best_rating_state = state_performance['Avg_Rating'].idxmax()\n",
    "\n",
    "print(f\"• Top revenue state: {top_revenue_state}\")\n",
    "print(f\"• Highest average order value: {highest_aov_state} (R$ {state_performance.loc[highest_aov_state, 'Avg_Price']:.2f})\")\n",
    "print(f\"• Best customer satisfaction: {best_rating_state} ({state_performance.loc[best_rating_state, 'Avg_Rating']:.2f}/5.0)\")"
   ]
  },
  {
   "cell_type": "code",
   "execution_count": null,
   "metadata": {},
   "outputs": [],
   "source": [
    "# Business Question: Which product categories generate the most revenue?\n",
    "# Excel equivalent: Pivot table with Category as rows\n",
    "\n",
    "print(\"=== CATEGORY PERFORMANCE ANALYSIS ===\")\n",
    "category_performance = df.groupby('category').agg({\n",
    "    'price': ['count', 'sum', 'mean'],\n",
    "    'review_score': 'mean'\n",
    "}).round(2)\n",
    "\n",
    "category_performance.columns = ['Order_Count', 'Total_Revenue', 'Avg_Price', 'Avg_Rating']\n",
    "category_performance = category_performance.sort_values('Total_Revenue', ascending=False)\n",
    "\n",
    "# Show top 10 categories\n",
    "print(category_performance.head(10))\n",
    "\n",
    "# Calculate revenue share\n",
    "category_performance['Revenue_Share_%'] = (category_performance['Total_Revenue'] / total_revenue * 100).round(1)\n",
    "\n",
    "print(f\"\\n=== TOP 5 CATEGORIES BY REVENUE ===\")\n",
    "top_categories = category_performance.head(5)\n",
    "for category, row in top_categories.iterrows():\n",
    "    print(f\"{category}:\")\n",
    "    print(f\"  Revenue: R$ {row['Total_Revenue']:,.2f} ({row['Revenue_Share_%']}% of total)\")\n",
    "    print(f\"  Orders: {row['Order_Count']:,}\")\n",
    "    print(f\"  Avg Price: R$ {row['Avg_Price']:.2f}\")\n",
    "    print(f\"  Rating: {row['Avg_Rating']:.1f}/5.0\\n\")"
   ]
  },
  {
   "cell_type": "markdown",
   "metadata": {},
   "source": [
    "## Section 7: Practical Business Applications"
   ]
  },
  {
   "cell_type": "code",
   "execution_count": null,
   "metadata": {},
   "outputs": [],
   "source": [
    "# Business Challenge: Create a executive dashboard summary\n",
    "# This combines multiple aggregation techniques\n",
    "\n",
    "def create_business_summary(df):\n",
    "    \"\"\"Create comprehensive business summary\"\"\"\n",
    "    \n",
    "    summary = {}\n",
    "    \n",
    "    # Overall metrics\n",
    "    summary['total_orders'] = df.shape[0]\n",
    "    summary['total_revenue'] = df['price'].sum()\n",
    "    summary['avg_order_value'] = df['price'].mean()\n",
    "    summary['unique_customers'] = df['order_id'].nunique()  # Assuming each order_id is unique\n",
    "    \n",
    "    # Regional insights\n",
    "    summary['top_state'] = df['customer_state'].value_counts().index[0]\n",
    "    summary['states_covered'] = df['customer_state'].nunique()\n",
    "    \n",
    "    # Product insights\n",
    "    summary['top_category'] = df['category'].value_counts().index[0]\n",
    "    summary['categories_sold'] = df['category'].nunique()\n",
    "    \n",
    "    # Customer satisfaction\n",
    "    summary['avg_rating'] = df['review_score'].mean()\n",
    "    summary['satisfaction_rate'] = (df['review_score'] >= 4).sum() / df['review_score'].notna().sum() * 100\n",
    "    \n",
    "    # Price segments\n",
    "    summary['premium_orders_pct'] = (df['price'] >= 200).sum() / len(df) * 100\n",
    "    \n",
    "    return summary\n",
    "\n",
    "# Generate executive summary\n",
    "business_summary = create_business_summary(df)\n",
    "\n",
    "print(\"=== EXECUTIVE BUSINESS SUMMARY ===\")\n",
    "print(f\"📊 OVERALL PERFORMANCE\")\n",
    "print(f\"   Total Orders: {business_summary['total_orders']:,}\")\n",
    "print(f\"   Total Revenue: R$ {business_summary['total_revenue']:,.2f}\")\n",
    "print(f\"   Average Order Value: R$ {business_summary['avg_order_value']:.2f}\")\n",
    "\n",
    "print(f\"\\n🗺️  MARKET COVERAGE\")\n",
    "print(f\"   Top Performing State: {business_summary['top_state']}\")\n",
    "print(f\"   States Covered: {business_summary['states_covered']}\")\n",
    "\n",
    "print(f\"\\n🛍️  PRODUCT PERFORMANCE\")\n",
    "print(f\"   Top Category: {business_summary['top_category']}\")\n",
    "print(f\"   Categories Available: {business_summary['categories_sold']}\")\n",
    "\n",
    "print(f\"\\n⭐ CUSTOMER SATISFACTION\")\n",
    "print(f\"   Average Rating: {business_summary['avg_rating']:.1f}/5.0\")\n",
    "print(f\"   Satisfaction Rate: {business_summary['satisfaction_rate']:.1f}% (4+ stars)\")\n",
    "\n",
    "print(f\"\\n💰 PREMIUM SEGMENT\")\n",
    "print(f\"   Premium Orders (≥R$200): {business_summary['premium_orders_pct']:.1f}%\")"
   ]
  },
  {
   "cell_type": "markdown",
   "metadata": {},
   "source": [
    "## Section 8: Key Takeaways and Best Practices"
   ]
  },
  {
   "cell_type": "markdown",
   "metadata": {},
   "source": [
    "### 🎯 Key Concepts Learned:\n",
    "\n",
    "1. **Basic Aggregations**: `sum()`, `count()`, `mean()`, `min()`, `max()`, `median()`\n",
    "2. **Conditional Aggregations**: Using boolean indexing for Excel SUMIF/COUNTIF equivalent\n",
    "3. **Value Counts**: `value_counts()` for frequency analysis (Excel COUNTIF for categories)\n",
    "4. **Statistical Summary**: `describe()` for comprehensive data profiling\n",
    "5. **GroupBy Introduction**: Basic grouping for category-wise analysis\n",
    "\n",
    "### 🔄 Excel to Pandas Translation:\n",
    "\n",
    "- **Excel SUMIF** → `df[condition]['column'].sum()`\n",
    "- **Excel COUNTIF** → `df[condition].shape[0]` or `value_counts()`\n",
    "- **Excel AVERAGEIF** → `df[condition]['column'].mean()`\n",
    "- **Excel Pivot Table** → `df.groupby().agg()`\n",
    "\n",
    "### 💡 Business Applications:\n",
    "\n",
    "- Regional performance analysis\n",
    "- Customer segmentation by order value\n",
    "- Product category optimization\n",
    "- Customer satisfaction measurement\n",
    "- Executive summary reporting\n",
    "\n",
    "### 🚀 Next Class Preview:\n",
    "Tomorrow in SQL class, we'll perform the same analyses using GROUP BY, HAVING, and window functions!"
   ]
  },
  {
   "cell_type": "markdown",
   "metadata": {},
   "source": [
    "## Practice Exercises\n",
    "\n",
    "Try these exercises to reinforce your learning:\n",
    "\n",
    "1. **State Analysis**: Find the state with the highest average freight cost\n",
    "2. **Category Insights**: Identify categories with average rating above 4.0\n",
    "3. **Price Distribution**: Create 5 equal price segments and analyze order distribution\n",
    "4. **Monthly Trends**: Extract month from order_date and analyze monthly performance\n",
    "5. **Customer Satisfaction**: Calculate satisfaction rate by customer state"
   ]
  },
  {
   "cell_type": "code",
   "execution_count": null,
   "metadata": {},
   "outputs": [],
   "source": [
    "# Space for practice exercises\n",
    "# Students can work on the exercises here\n",
    "\n",
    "# Example solution for Exercise 1:\n",
    "print(\"Exercise 1 Solution - State with highest average freight cost:\")\n",
    "freight_by_state = df.groupby('customer_state')['freight_value'].mean().sort_values(ascending=False)\n",
    "print(f\"Highest avg freight: {freight_by_state.index[0]} (R$ {freight_by_state.iloc[0]:.2f})\")"
   ]
  }
 ],
 "metadata": {
  "kernelspec": {
   "display_name": "Python 3",
   "language": "python",
   "name": "python3"
  },
  "language_info": {
   "codemirror_mode": {
    "name": "ipython",
    "version": 3
   },
   "file_extension": ".py",
   "mimetype": "text/x-python",
   "name": "python",
   "nbconvert_exporter": "python",
   "pygments_lexer": "ipython3",
   "version": "3.8.0"
  }
 },
 "nbformat": 4,
 "nbformat_minor": 4
}
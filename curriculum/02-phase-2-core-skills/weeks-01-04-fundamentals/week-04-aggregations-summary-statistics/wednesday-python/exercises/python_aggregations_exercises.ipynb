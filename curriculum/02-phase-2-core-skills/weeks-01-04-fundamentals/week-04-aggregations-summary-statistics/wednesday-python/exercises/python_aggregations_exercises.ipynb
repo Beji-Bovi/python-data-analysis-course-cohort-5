{
 "cells": [
  {
   "cell_type": "markdown",
   "metadata": {},
   "source": [
    "# Week 4: Python Aggregations & Summary Statistics - EXERCISES\n",
    "## Wednesday Python Class - September 3, 2025\n",
    "\n",
    "**Student Name**: _________________ **Date**: _________________\n",
    "\n",
    "---\n",
    "\n",
    "## Instructions:\n",
    "- Complete each exercise using pandas aggregation functions\n",
    "- Focus on business insights, not just technical solutions\n",
    "- Write clean, well-commented code\n",
    "- Test your results to ensure they make business sense\n",
    "- Use the provided Olist e-commerce dataset\n",
    "\n",
    "**Points Distribution**: 100 points total\n",
    "- Part A: Basic Aggregations (25 points)\n",
    "- Part B: GroupBy Operations (30 points)  \n",
    "- Part C: Pivot Tables & Advanced Analysis (30 points)\n",
    "- Part D: Business Intelligence Report (15 points)\n",
    "\n",
    "---"
   ]
  },
  {
   "cell_type": "markdown",
   "metadata": {},
   "source": [
    "## Setup: Load Libraries and Data"
   ]
  },
  {
   "cell_type": "code",
   "execution_count": null,
   "metadata": {},
   "outputs": [],
   "source": [
    "# Import required libraries\n",
    "import pandas as pd\n",
    "import numpy as np\n",
    "import matplotlib.pyplot as plt\n",
    "import seaborn as sns\n",
    "import warnings\n",
    "warnings.filterwarnings('ignore')\n",
    "\n",
    "# Load the dataset\n",
    "df = pd.read_csv('../lecture-materials/datasets/olist_sample_data.csv')\n",
    "df['order_date'] = pd.to_datetime(df['order_date'])\n",
    "\n",
    "# Add business columns (you'll need these for the exercises)\n",
    "df['year'] = df['order_date'].dt.year\n",
    "df['month'] = df['order_date'].dt.month\n",
    "df['month_name'] = df['order_date'].dt.strftime('%B')\n",
    "\n",
    "# Create price segments\n",
    "df['price_segment'] = pd.cut(df['price'], \n",
    "                            bins=[0, 100, 200, 300, float('inf')], \n",
    "                            labels=['Budget', 'Standard', 'Premium', 'Luxury'])\n",
    "\n",
    "print(f\"Dataset loaded: {df.shape[0]} orders, {df.shape[1]} columns\")\n",
    "print(f\"Date range: {df['order_date'].min()} to {df['order_date'].max()}\")\n",
    "print(\"Ready to start exercises!\")"
   ]
  },
  {
   "cell_type": "markdown",
   "metadata": {},
   "source": [
    "---\n",
    "## Part A: Basic Aggregations (25 points)\n",
    "**From Excel SUMIF/COUNTIF to Pandas**"
   ]
  },
  {
   "cell_type": "markdown",
   "metadata": {},
   "source": [
    "### Exercise A1: Overall Business Metrics (5 points)\n",
    "**Business Question**: What are our key performance indicators?\n",
    "\n",
    "Calculate and display:\n",
    "- Total number of orders\n",
    "- Total revenue\n",
    "- Average order value\n",
    "- Minimum and maximum order values\n",
    "- Overall customer satisfaction (average review score)"
   ]
  },
  {
   "cell_type": "code",
   "execution_count": null,
   "metadata": {},
   "outputs": [],
   "source": [
    "# Your code here\n",
    "# Hint: Use basic pandas aggregation functions like sum(), mean(), min(), max(), count()\n"
   ]
  },
  {
   "cell_type": "markdown",
   "metadata": {},
   "source": [
    "### Exercise A2: Conditional Aggregations (10 points)\n",
    "**Business Question**: How do high-value orders (≥ R$200) compare to regular orders?\n",
    "\n",
    "Calculate and compare:\n",
    "- Number of high-value vs regular orders\n",
    "- Revenue from each segment\n",
    "- Percentage of total orders and revenue each represents\n",
    "- Average customer satisfaction for each segment"
   ]
  },
  {
   "cell_type": "code",
   "execution_count": null,
   "metadata": {},
   "outputs": [],
   "source": [
    "# Your code here\n",
    "# Hint: Use boolean indexing like df[df['price'] >= 200]\n"
   ]
  },
  {
   "cell_type": "markdown",
   "metadata": {},
   "source": [
    "### Exercise A3: Value Counts Analysis (10 points)\n",
    "**Business Question**: What's our market distribution and product focus?\n",
    "\n",
    "Analyze and display:\n",
    "- Top 5 customer states by order count (with percentages)\n",
    "- Top 5 product categories by order count (with percentages)  \n",
    "- Distribution of price segments (count and percentage)\n",
    "- Create a simple visualization for one of these distributions"
   ]
  },
  {
   "cell_type": "code",
   "execution_count": null,
   "metadata": {},
   "outputs": [],
   "source": [
    "# Your code here\n",
    "# Hint: Use value_counts() and value_counts(normalize=True)\n"
   ]
  },
  {
   "cell_type": "markdown",
   "metadata": {},
   "source": [
    "---\n",
    "## Part B: GroupBy Operations (30 points)\n",
    "**From Excel Pivot Tables to Pandas GroupBy**"
   ]
  },
  {
   "cell_type": "markdown",
   "metadata": {},
   "source": [
    "### Exercise B1: State Performance Analysis (10 points)\n",
    "**Business Question**: Which states are our best markets?\n",
    "\n",
    "Create a comprehensive analysis by customer state showing:\n",
    "- Order count\n",
    "- Total revenue\n",
    "- Average order value\n",
    "- Average customer satisfaction\n",
    "- Average freight cost\n",
    "\n",
    "Sort by total revenue and display top 8 states."
   ]
  },
  {
   "cell_type": "code",
   "execution_count": null,
   "metadata": {},
   "outputs": [],
   "source": [
    "# Your code here\n",
    "# Hint: Use groupby().agg() with a dictionary\n"
   ]
  },
  {
   "cell_type": "markdown",
   "metadata": {},
   "source": [
    "### Exercise B2: Category Performance with describe() (10 points)\n",
    "**Business Question**: What's the statistical profile of our top product categories?\n",
    "\n",
    "For the top 5 product categories by order count:\n",
    "- Use describe() to show statistical summary of prices\n",
    "- Calculate additional metrics: total revenue, average rating\n",
    "- Identify which category has the most consistent pricing (lowest standard deviation)\n",
    "- Identify which category has the highest customer satisfaction"
   ]
  },
  {
   "cell_type": "code",
   "execution_count": null,
   "metadata": {},
   "outputs": [],
   "source": [
    "# Your code here\n",
    "# Hint: Combine value_counts(), groupby(), and describe()\n"
   ]
  },
  {
   "cell_type": "markdown",
   "metadata": {},
   "source": [
    "### Exercise B3: Multi-Column GroupBy (10 points)\n",
    "**Business Question**: How does performance vary by state AND price segment?\n",
    "\n",
    "Create analysis showing:\n",
    "- Order count by state and price segment\n",
    "- Revenue by state and price segment\n",
    "- Average customer satisfaction by state and price segment\n",
    "\n",
    "Focus on top 3 states by revenue. Identify the best-performing state-segment combination."
   ]
  },
  {
   "cell_type": "code",
   "execution_count": null,
   "metadata": {},
   "outputs": [],
   "source": [
    "# Your code here\n",
    "# Hint: Use groupby(['state', 'segment']) with multiple aggregations\n"
   ]
  },
  {
   "cell_type": "markdown",
   "metadata": {},
   "source": [
    "---\n",
    "## Part C: Pivot Tables & Advanced Analysis (30 points)\n",
    "**Advanced Excel Pivot Table Functionality in Pandas**"
   ]
  },
  {
   "cell_type": "markdown",
   "metadata": {},
   "source": [
    "### Exercise C1: Revenue Pivot Table (10 points)\n",
    "**Business Question**: Create a pivot table showing revenue by state and price segment\n",
    "\n",
    "Requirements:\n",
    "- States as rows, price segments as columns\n",
    "- Revenue as values\n",
    "- Include totals (margins)\n",
    "- Create a second pivot showing percentages of total revenue\n",
    "- Identify which state dominates each price segment"
   ]
  },
  {
   "cell_type": "code",
   "execution_count": null,
   "metadata": {},
   "outputs": [],
   "source": [
    "# Your code here\n",
    "# Hint: Use pd.pivot_table() with margins=True\n"
   ]
  },
  {
   "cell_type": "markdown",
   "metadata": {},
   "source": [
    "### Exercise C2: Monthly Trends Analysis (10 points)\n",
    "**Business Question**: How do our sales trends vary by month?\n",
    "\n",
    "Create analysis showing:\n",
    "- Monthly order counts and revenue\n",
    "- Monthly average order value\n",
    "- Monthly customer satisfaction trends\n",
    "- Identify the best and worst performing months\n",
    "- Create a simple line plot showing monthly revenue trend"
   ]
  },
  {
   "cell_type": "code",
   "execution_count": null,
   "metadata": {},
   "outputs": [],
   "source": [
    "# Your code here\n",
    "# Hint: Group by month_name, use matplotlib for visualization\n"
   ]
  },
  {
   "cell_type": "markdown",
   "metadata": {},
   "source": [
    "### Exercise C3: Custom Business Metrics (10 points)\n",
    "**Business Question**: Create custom KPIs for category performance\n",
    "\n",
    "Write a custom aggregation function that calculates:\n",
    "- Revenue concentration (coefficient of variation = std/mean)\n",
    "- Premium order percentage (orders ≥ R$200)\n",
    "- Customer satisfaction rate (% with rating ≥ 4)\n",
    "- Revenue per unique order (if we assume each order_id is unique)\n",
    "\n",
    "Apply this function to analyze product categories."
   ]
  },
  {
   "cell_type": "code",
   "execution_count": null,
   "metadata": {},
   "outputs": [],
   "source": [
    "# Your code here\n",
    "# Hint: Create a custom function that returns a pd.Series with calculated metrics\n"
   ]
  },
  {
   "cell_type": "markdown",
   "metadata": {},
   "source": [
    "---\n",
    "## Part D: Business Intelligence Report (15 points)\n",
    "**Executive Dashboard Creation**"
   ]
  },
  {
   "cell_type": "markdown",
   "metadata": {},
   "source": [
    "### Exercise D1: Comprehensive Business Report (15 points)\n",
    "**Business Challenge**: Create an executive summary for stakeholders\n",
    "\n",
    "Your report should include:\n",
    "\n",
    "1. **Executive Summary** (5 points):\n",
    "   - Key overall metrics (orders, revenue, AOV, satisfaction)\n",
    "   - Growth/trend indicators\n",
    "\n",
    "2. **Market Analysis** (5 points):\n",
    "   - Top 3 states with key metrics\n",
    "   - Market share percentages\n",
    "   - Performance benchmarks\n",
    "\n",
    "3. **Strategic Recommendations** (5 points):\n",
    "   - Based on your analysis, provide 3 specific business recommendations\n",
    "   - Support each recommendation with data insights\n",
    "   - Consider market opportunities and operational efficiency\n",
    "\n",
    "**Format**: Professional presentation with clear sections and business language"
   ]
  },
  {
   "cell_type": "code",
   "execution_count": null,
   "metadata": {},
   "outputs": [],
   "source": [
    "# Your code here - Create a comprehensive business intelligence report\n",
    "# Combine multiple aggregation techniques to generate insights\n",
    "\n",
    "def generate_executive_report(df):\n",
    "    \"\"\"Create comprehensive executive report\"\"\"\n",
    "    # Your implementation here\n",
    "    pass\n",
    "\n",
    "# Call your function and format the output professionally\n"
   ]
  },
  {
   "cell_type": "markdown",
   "metadata": {},
   "source": [
    "---\n",
    "## Submission Checklist\n",
    "\n",
    "Before submitting, verify:\n",
    "- [ ] All code executes without errors\n",
    "- [ ] Results are properly formatted and easy to read\n",
    "- [ ] Business insights are clearly explained\n",
    "- [ ] Appropriate aggregation functions used for each question\n",
    "- [ ] Code is well-commented and clean\n",
    "- [ ] Visualizations (where requested) are clear and informative\n",
    "- [ ] Executive report addresses business stakeholders appropriately\n",
    "\n",
    "---\n",
    "## Self-Assessment Questions\n",
    "\n",
    "1. **Excel Bridge**: How do pandas aggregations compare to Excel SUMIF/COUNTIF functions? What are the advantages?\n",
    "\n",
    "2. **GroupBy vs Pivot**: When would you use groupby() vs pivot_table() for business analysis?\n",
    "\n",
    "3. **Business Application**: How can these aggregation techniques help in real-world e-commerce analytics?\n",
    "\n",
    "4. **Data Quality**: What data quality issues did you notice while working with the dataset? How would you address them?\n",
    "\n",
    "---\n",
    "*Write your answers to self-assessment questions below:*"
   ]
  },
  {
   "cell_type": "markdown",
   "metadata": {},
   "source": [
    "### Self-Assessment Answers:\n",
    "\n",
    "**Answer 1**: (Your answer here)\n",
    "\n",
    "**Answer 2**: (Your answer here) \n",
    "\n",
    "**Answer 3**: (Your answer here)\n",
    "\n",
    "**Answer 4**: (Your answer here)"
   ]
  }
 ],
 "metadata": {
  "kernelspec": {
   "display_name": "Python 3",
   "language": "python",
   "name": "python3"
  },
  "language_info": {
   "codemirror_mode": {
    "name": "ipython",
    "version": 3
   },
   "file_extension": ".py",
   "mimetype": "text/x-python",
   "name": "python",
   "nbconvert_exporter": "python",
   "pygments_lexer": "ipython3",
   "version": "3.8.0"
  }
 },
 "nbformat": 4,
 "nbformat_minor": 4
}
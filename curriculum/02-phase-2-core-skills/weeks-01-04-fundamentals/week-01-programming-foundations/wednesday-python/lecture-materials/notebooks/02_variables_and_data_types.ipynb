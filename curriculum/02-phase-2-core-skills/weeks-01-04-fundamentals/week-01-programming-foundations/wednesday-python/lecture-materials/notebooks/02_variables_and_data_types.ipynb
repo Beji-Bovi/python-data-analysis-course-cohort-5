{
 "cells": [
  {
   "cell_type": "markdown",
   "metadata": {},
   "source": [
    "# Variables and Data Types: Your Digital Business Records\n",
    "\n",
    "**Week 01 - Wednesday | Python Fundamentals**  \n",
    "*From Excel Named Cells to Python Variables*\n",
    "\n",
    "---\n",
    "\n",
    "## Excel Connection: Named Cells and Data Types\n",
    "\n",
    "### In Excel, You Already Use Variables!\n",
    "\n",
    "When you create a named cell in Excel:\n",
    "- **Name**: `SalesTotal` → **Value**: `1500`\n",
    "- **Name**: `CompanyName` → **Value**: `\"ABC Corp\"`\n",
    "- **Name**: `TaxRate` → **Value**: `0.08`\n",
    "\n",
    "Excel automatically knows:\n",
    "- `1500` is a number\n",
    "- `\"ABC Corp\"` is text  \n",
    "- `0.08` is a decimal\n",
    "\n",
    "**Python works the same way!**"
   ]
  },
  {
   "cell_type": "markdown",
   "metadata": {},
   "source": [
    "## Business Scenario: Setting Up NaijaCommerce Data\n",
    "\n",
    "Let's create variables to store information about our e-commerce business:"
   ]
  },
  {
   "cell_type": "code",
   "execution_count": null,
   "metadata": {},
   "outputs": [],
   "source": [
    "# Company Information (like Excel named cells)\n",
    "company_name = \"NaijaCommerce\"         # String (text)\n",
    "founded_year = 2023                    # Integer (whole number)\n",
    "monthly_revenue = 2500000.50           # Float (decimal number)\n",
    "is_profitable = True                   # Boolean (True/False)\n",
    "headquarters_city = \"Lagos\"            # String (text)\n",
    "\n",
    "# Let's see what we created\n",
    "print(\"=== Company Profile ===\")\n",
    "print(f\"Company: {company_name}\")\n",
    "print(f\"Founded: {founded_year}\")\n",
    "print(f\"Monthly Revenue: ₦{monthly_revenue:,.2f}\")\n",
    "print(f\"Profitable: {is_profitable}\")\n",
    "print(f\"Location: {headquarters_city}\")"
   ]
  },
  {
   "cell_type": "markdown",
   "metadata": {},
   "source": [
    "## Python's Four Main Data Types (Excel Equivalent)\n",
    "\n",
    "### 1. Strings (TEXT in Excel)\n",
    "Used for names, addresses, descriptions - anything with letters"
   ]
  },
  {
   "cell_type": "code",
   "execution_count": null,
   "metadata": {},
   "outputs": [],
   "source": [
    "# Customer Information\n",
    "customer_name = \"Adebayo Okonkwo\"           # Customer's full name\n",
    "customer_email = \"adebayo@email.com\"        # Email address\n",
    "delivery_address = \"15 Victoria Island, Lagos\"  # Shipping address\n",
    "order_status = \"Shipped\"                    # Current order status\n",
    "\n",
    "print(\"=== Customer Information ===\")\n",
    "print(f\"Name: {customer_name}\")\n",
    "print(f\"Email: {customer_email}\")\n",
    "print(f\"Address: {delivery_address}\")\n",
    "print(f\"Status: {order_status}\")\n",
    "\n",
    "# Check the data type (like checking format in Excel)\n",
    "print(f\"\\nData type of customer_name: {type(customer_name)}\")"
   ]
  },
  {
   "cell_type": "markdown",
   "metadata": {},
   "source": [
    "### 2. Integers (WHOLE NUMBERS in Excel)\n",
    "Used for counts, quantities, years - whole numbers only"
   ]
  },
  {
   "cell_type": "code",
   "execution_count": null,
   "metadata": {},
   "outputs": [],
   "source": [
    "# Order Quantities and Counts\n",
    "items_ordered = 3                      # Number of products in order\n",
    "days_since_order = 5                   # Days since order was placed\n",
    "total_customers = 15420                # Total registered customers\n",
    "products_in_catalog = 2847             # Number of products available\n",
    "\n",
    "print(\"=== Business Metrics ===\")\n",
    "print(f\"Items in current order: {items_ordered}\")\n",
    "print(f\"Order age: {days_since_order} days\")\n",
    "print(f\"Total customers: {total_customers:,}\")\n",
    "print(f\"Products available: {products_in_catalog:,}\")\n",
    "\n",
    "# Business calculation (like Excel formula)\n",
    "avg_products_per_customer = products_in_catalog / total_customers\n",
    "print(f\"\\nProducts per customer: {avg_products_per_customer:.2f}\")\n",
    "print(f\"Data type of items_ordered: {type(items_ordered)}\")"
   ]
  },
  {
   "cell_type": "markdown",
   "metadata": {},
   "source": [
    "### 3. Floats (DECIMAL NUMBERS in Excel)\n",
    "Used for prices, percentages, measurements - numbers with decimal points"
   ]
  },
  {
   "cell_type": "code",
   "execution_count": null,
   "metadata": {},
   "outputs": [],
   "source": [
    "# Financial Information\n",
    "product_price = 45750.99               # Price in Naira\n",
    "discount_rate = 0.15                   # 15% discount\n",
    "shipping_cost = 2500.00                # Delivery fee\n",
    "tax_rate = 0.075                       # 7.5% VAT in Nigeria\n",
    "\n",
    "print(\"=== Order Calculation ===\")\n",
    "print(f\"Product Price: ₦{product_price:,.2f}\")\n",
    "print(f\"Discount Rate: {discount_rate:.1%}\")\n",
    "print(f\"Shipping: ₦{shipping_cost:,.2f}\")\n",
    "print(f\"Tax Rate: {tax_rate:.1%}\")\n",
    "\n",
    "# Calculate final price (like Excel formulas)\n",
    "discount_amount = product_price * discount_rate\n",
    "discounted_price = product_price - discount_amount\n",
    "tax_amount = discounted_price * tax_rate\n",
    "final_total = discounted_price + tax_amount + shipping_cost\n",
    "\n",
    "print(f\"\\n=== Final Calculation ===\")\n",
    "print(f\"Discount Amount: ₦{discount_amount:,.2f}\")\n",
    "print(f\"After Discount: ₦{discounted_price:,.2f}\")\n",
    "print(f\"Tax Amount: ₦{tax_amount:,.2f}\")\n",
    "print(f\"FINAL TOTAL: ₦{final_total:,.2f}\")\n",
    "\n",
    "print(f\"\\nData type of product_price: {type(product_price)}\")"
   ]
  },
  {
   "cell_type": "markdown",
   "metadata": {},
   "source": [
    "### 4. Booleans (YES/NO in Excel)\n",
    "Used for True/False conditions - like Excel's TRUE/FALSE results"
   ]
  },
  {
   "cell_type": "code",
   "execution_count": null,
   "metadata": {},
   "outputs": [],
   "source": [
    "# Business Status Indicators\n",
    "order_is_paid = True                   # Payment received?\n",
    "customer_is_vip = False                # VIP customer status?\n",
    "product_in_stock = True                # Item available?\n",
    "free_shipping_eligible = False         # Qualifies for free shipping?\n",
    "order_is_urgent = True                 # Rush delivery needed?\n",
    "\n",
    "print(\"=== Order Status Checks ===\")\n",
    "print(f\"Payment received: {order_is_paid}\")\n",
    "print(f\"VIP customer: {customer_is_vip}\")\n",
    "print(f\"In stock: {product_in_stock}\")\n",
    "print(f\"Free shipping: {free_shipping_eligible}\")\n",
    "print(f\"Urgent order: {order_is_urgent}\")\n",
    "\n",
    "# Business logic using booleans (like Excel IF statements)\n",
    "can_process_order = order_is_paid and product_in_stock\n",
    "needs_priority_handling = order_is_urgent or customer_is_vip\n",
    "\n",
    "print(f\"\\n=== Processing Decisions ===\")\n",
    "print(f\"Can process order: {can_process_order}\")\n",
    "print(f\"Priority handling: {needs_priority_handling}\")\n",
    "\n",
    "print(f\"\\nData type of order_is_paid: {type(order_is_paid)}\")"
   ]
  },
  {
   "cell_type": "markdown",
   "metadata": {},
   "source": [
    "## Variable Naming Rules (Different from Excel)\n",
    "\n",
    "### ❌ Excel Habits That Don't Work in Python"
   ]
  },
  {
   "cell_type": "code",
   "execution_count": null,
   "metadata": {},
   "outputs": [],
   "source": [
    "# These will cause errors - don't run this cell!\n",
    "# customer name = \"John\"        # Spaces not allowed\n",
    "# 2022_sales = 50000           # Can't start with number\n",
    "# customer-email = \"test@test\" # Hyphens not allowed\n",
    "# class = \"Premium\"            # 'class' is reserved word"
   ]
  },
  {
   "cell_type": "markdown",
   "metadata": {},
   "source": [
    "### ✅ Python-Friendly Variable Names"
   ]
  },
  {
   "cell_type": "code",
   "execution_count": null,
   "metadata": {},
   "outputs": [],
   "source": [
    "# These work perfectly\n",
    "customer_name = \"John\"           # Use underscores for spaces\n",
    "sales_2022 = 50000              # Numbers at end are OK\n",
    "customer_email = \"test@test\"     # Use underscore instead of hyphen\n",
    "customer_class = \"Premium\"       # Add descriptive word to avoid reserved words\n",
    "\n",
    "print(\"All variables created successfully!\")\n",
    "print(f\"Customer: {customer_name}\")\n",
    "print(f\"2022 Sales: ₦{sales_2022:,}\")\n",
    "print(f\"Email: {customer_email}\")\n",
    "print(f\"Class: {customer_class}\")"
   ]
  },
  {
   "cell_type": "markdown",
   "metadata": {},
   "source": [
    "## Hands-On Exercise: Build Your Customer Profile\n",
    "\n",
    "**Scenario**: You're processing a new customer order. Create variables to store all the important information.\n",
    "\n",
    "**Instructions**: Fill in realistic values for a Nigerian e-commerce customer"
   ]
  },
  {
   "cell_type": "code",
   "execution_count": null,
   "metadata": {},
   "outputs": [],
   "source": [
    "# Customer Demographics\n",
    "customer_full_name = \"______\"        # String: Customer's name\n",
    "customer_age = ______                # Integer: Age in years\n",
    "customer_city = \"______\"             # String: Nigerian city\n",
    "customer_phone = \"______\"            # String: Phone number\n",
    "\n",
    "# Order Details\n",
    "order_value = ______                 # Float: Total order amount in Naira\n",
    "items_count = ______                 # Integer: Number of items\n",
    "is_first_time_buyer = ______         # Boolean: True or False\n",
    "wants_insurance = ______             # Boolean: True or False\n",
    "\n",
    "# Business Calculations\n",
    "loyalty_discount = 0.05 if not is_first_time_buyer else 0.0\n",
    "insurance_cost = order_value * 0.02 if wants_insurance else 0.0\n",
    "delivery_fee = 1500 if order_value < 50000 else 0  # Free delivery over ₦50,000\n",
    "\n",
    "# Calculate final totals\n",
    "discount_amount = order_value * loyalty_discount\n",
    "final_total = order_value - discount_amount + insurance_cost + delivery_fee\n",
    "\n",
    "# Display customer profile\n",
    "print(\"=== CUSTOMER ORDER SUMMARY ===\")\n",
    "print(f\"Customer: {customer_full_name}, {customer_age} years old\")\n",
    "print(f\"Location: {customer_city}\")\n",
    "print(f\"Contact: {customer_phone}\")\n",
    "print(f\"\\n=== ORDER DETAILS ===\")\n",
    "print(f\"Items ordered: {items_count}\")\n",
    "print(f\"Order value: ₦{order_value:,.2f}\")\n",
    "print(f\"First-time buyer: {is_first_time_buyer}\")\n",
    "print(f\"Insurance requested: {wants_insurance}\")\n",
    "print(f\"\\n=== COST BREAKDOWN ===\")\n",
    "print(f\"Loyalty discount: ₦{discount_amount:,.2f}\")\n",
    "print(f\"Insurance cost: ₦{insurance_cost:,.2f}\")\n",
    "print(f\"Delivery fee: ₦{delivery_fee:,.2f}\")\n",
    "print(f\"FINAL TOTAL: ₦{final_total:,.2f}\")"
   ]
  },
  {
   "cell_type": "markdown",
   "metadata": {},
   "source": [
    "## Working with Variables: Common Operations\n",
    "\n",
    "### String Operations (Like Excel Text Functions)"
   ]
  },
  {
   "cell_type": "code",
   "execution_count": null,
   "metadata": {},
   "outputs": [],
   "source": [
    "first_name = \"Adebayo\"\n",
    "last_name = \"Okonkwo\"\n",
    "company = \"TechHub Nigeria\"\n",
    "\n",
    "# Combine strings (like Excel CONCATENATE)\n",
    "full_name = first_name + \" \" + last_name\n",
    "email_address = first_name.lower() + \"@\" + company.lower().replace(\" \", \"\") + \".com\"\n",
    "\n",
    "# String formatting (like Excel TEXT function)\n",
    "greeting = f\"Hello {full_name}, welcome to NaijaCommerce!\"\n",
    "formal_greeting = f\"Dear Mr. {last_name.upper()},\"\n",
    "\n",
    "print(\"=== String Operations ===\")\n",
    "print(f\"Full name: {full_name}\")\n",
    "print(f\"Generated email: {email_address}\")\n",
    "print(f\"Greeting: {greeting}\")\n",
    "print(f\"Formal: {formal_greeting}\")\n",
    "\n",
    "# Useful string properties\n",
    "print(f\"\\n=== String Analysis ===\")\n",
    "print(f\"Name length: {len(full_name)} characters\")\n",
    "print(f\"First name uppercase: {first_name.upper()}\")\n",
    "print(f\"Last name lowercase: {last_name.lower()}\")"
   ]
  },
  {
   "cell_type": "markdown",
   "metadata": {},
   "source": [
    "### Number Operations (Like Excel Math Functions)"
   ]
  },
  {
   "cell_type": "code",
   "execution_count": null,
   "metadata": {},
   "outputs": [],
   "source": [
    "# Business metrics\n",
    "january_sales = 125000\n",
    "february_sales = 147000\n",
    "march_sales = 132000\n",
    "\n",
    "# Basic calculations\n",
    "q1_total = january_sales + february_sales + march_sales\n",
    "monthly_average = q1_total / 3\n",
    "growth_rate = (march_sales - january_sales) / january_sales\n",
    "\n",
    "print(\"=== Quarterly Analysis ===\")\n",
    "print(f\"January: ₦{january_sales:,}\")\n",
    "print(f\"February: ₦{february_sales:,}\")\n",
    "print(f\"March: ₦{march_sales:,}\")\n",
    "print(f\"Q1 Total: ₦{q1_total:,}\")\n",
    "print(f\"Monthly Average: ₦{monthly_average:,.2f}\")\n",
    "print(f\"Growth Rate: {growth_rate:.1%}\")\n",
    "\n",
    "# Advanced calculations\n",
    "import math\n",
    "sales_data = [january_sales, february_sales, march_sales]\n",
    "max_sales = max(sales_data)\n",
    "min_sales = min(sales_data)\n",
    "sales_range = max_sales - min_sales\n",
    "\n",
    "print(f\"\\n=== Statistical Summary ===\")\n",
    "print(f\"Highest month: ₦{max_sales:,}\")\n",
    "print(f\"Lowest month: ₦{min_sales:,}\")\n",
    "print(f\"Sales range: ₦{sales_range:,}\")"
   ]
  },
  {
   "cell_type": "markdown",
   "metadata": {},
   "source": [
    "## Error Handling: When Things Go Wrong\n",
    "\n",
    "Just like Excel shows #VALUE! errors, Python shows error messages. Let's see common ones:"
   ]
  },
  {
   "cell_type": "code",
   "execution_count": null,
   "metadata": {},
   "outputs": [],
   "source": [
    "# This will work fine\n",
    "price = \"1500\"  # This is a string, not a number\n",
    "print(f\"Price as string: {price}\")\n",
    "print(f\"Type: {type(price)}\")\n",
    "\n",
    "# Convert string to number (like Excel VALUE function)\n",
    "price_as_number = float(price)\n",
    "print(f\"Price as number: {price_as_number}\")\n",
    "print(f\"Type: {type(price_as_number)}\")\n",
    "\n",
    "# Now we can do math\n",
    "tax = price_as_number * 0.075\n",
    "total = price_as_number + tax\n",
    "print(f\"Tax: ₦{tax:.2f}\")\n",
    "print(f\"Total: ₦{total:.2f}\")"
   ]
  },
  {
   "cell_type": "code",
   "execution_count": null,
   "metadata": {},
   "outputs": [],
   "source": [
    "# This will show an error - that's OK, errors help us learn!\n",
    "# Uncomment the line below to see the error:\n",
    "# result = \"1500\" + 100  # Can't add string and number\n",
    "\n",
    "# The right way to do it:\n",
    "result = float(\"1500\") + 100\n",
    "print(f\"Correct result: {result}\")"
   ]
  },
  {
   "cell_type": "markdown",
   "metadata": {},
   "source": [
    "## Challenge Exercise: Complete Customer Analysis\n",
    "\n",
    "**Scenario**: You have three customers with different profiles. Calculate business metrics for each one.\n",
    "\n",
    "**Your task**: Fill in the missing values and run the analysis"
   ]
  },
  {
   "cell_type": "code",
   "execution_count": null,
   "metadata": {},
   "outputs": [],
   "source": [
    "# Customer 1: New customer from Abuja\n",
    "customer1_name = \"______\"               # Fill in a name\n",
    "customer1_city = \"Abuja\"\n",
    "customer1_order_value = ______          # Fill in an order amount\n",
    "customer1_is_new = True\n",
    "customer1_payment_method = \"Card\"       # Card, Transfer, or Cash\n",
    "\n",
    "# Customer 2: Returning customer from Lagos\n",
    "customer2_name = \"______\"               # Fill in a name\n",
    "customer2_city = \"Lagos\"\n",
    "customer2_order_value = ______          # Fill in an order amount\n",
    "customer2_is_new = False\n",
    "customer2_payment_method = \"Transfer\"   \n",
    "\n",
    "# Customer 3: VIP customer from Port Harcourt\n",
    "customer3_name = \"______\"               # Fill in a name\n",
    "customer3_city = \"Port Harcourt\"\n",
    "customer3_order_value = ______          # Fill in an order amount (make it large!)\n",
    "customer3_is_new = False\n",
    "customer3_payment_method = \"Card\"\n",
    "\n",
    "# Business rules (like Excel IF statements)\n",
    "new_customer_discount = 0.10    # 10% discount for new customers\n",
    "loyalty_discount = 0.05         # 5% discount for returning customers\n",
    "vip_threshold = 100000         # Orders over ₦100,000 get VIP treatment\n",
    "free_shipping_threshold = 50000 # Free shipping over ₦50,000\n",
    "\n",
    "print(\"=== CUSTOMER ANALYSIS REPORT ===\")\n",
    "print(\"\\nCustomer 1 Analysis:\")\n",
    "# Calculate discounts and totals for Customer 1\n",
    "c1_discount_rate = new_customer_discount if customer1_is_new else loyalty_discount\n",
    "c1_discount_amount = customer1_order_value * c1_discount_rate\n",
    "c1_shipping = 0 if customer1_order_value >= free_shipping_threshold else 2000\n",
    "c1_final_total = customer1_order_value - c1_discount_amount + c1_shipping\n",
    "c1_is_vip = customer1_order_value >= vip_threshold\n",
    "\n",
    "print(f\"  Name: {customer1_name} ({customer1_city})\")\n",
    "print(f\"  Order Value: ₦{customer1_order_value:,}\")\n",
    "print(f\"  Discount: {c1_discount_rate:.0%} (₦{c1_discount_amount:,.2f})\")\n",
    "print(f\"  Shipping: ₦{c1_shipping:,}\")\n",
    "print(f\"  Final Total: ₦{c1_final_total:,.2f}\")\n",
    "print(f\"  VIP Status: {c1_is_vip}\")\n",
    "print(f\"  Payment: {customer1_payment_method}\")\n",
    "\n",
    "# Now you complete the analysis for Customer 2 and 3!\n",
    "print(\"\\nCustomer 2 Analysis:\")\n",
    "# Your code here for Customer 2...\n",
    "\n",
    "print(\"\\nCustomer 3 Analysis:\")\n",
    "# Your code here for Customer 3...\n",
    "\n",
    "# Business summary\n",
    "total_revenue = customer1_order_value + customer2_order_value + customer3_order_value\n",
    "average_order = total_revenue / 3\n",
    "print(f\"\\n=== BUSINESS SUMMARY ===\")\n",
    "print(f\"Total Revenue: ₦{total_revenue:,}\")\n",
    "print(f\"Average Order: ₦{average_order:,.2f}\")\n",
    "print(f\"New Customers: {sum([customer1_is_new, customer2_is_new, customer3_is_new])}\")\n",
    "print(f\"VIP Orders: {sum([c1_is_vip])}\")"
   ]
  },
  {
   "cell_type": "markdown",
   "metadata": {},
   "source": [
    "## Key Takeaways: Variables and Data Types\n",
    "\n",
    "### What You Learned\n",
    "✅ **Variables** = Named cells in Excel  \n",
    "✅ **Strings** = Text data (names, addresses)  \n",
    "✅ **Integers** = Whole numbers (counts, quantities)  \n",
    "✅ **Floats** = Decimal numbers (prices, percentages)  \n",
    "✅ **Booleans** = True/False (status indicators)  \n",
    "\n",
    "### Python vs Excel\n",
    "| Task | Excel | Python |\n",
    "|------|-------|--------|\n",
    "| Store value | Named cell | `variable = value` |\n",
    "| Add numbers | `=A1+B1` | `total = price + tax` |\n",
    "| Join text | `=A1&B1` | `full_name = first + last` |\n",
    "| Check type | Cell format | `type(variable)` |\n",
    "| Convert text to number | `VALUE()` | `float(text)` |\n",
    "\n",
    "### Common Mistakes to Avoid\n",
    "❌ Forgetting quotes around text: `name = John` → `name = \"John\"`  \n",
    "❌ Spaces in variable names: `order total` → `order_total`  \n",
    "❌ Starting with numbers: `2023_sales` → `sales_2023`  \n",
    "❌ Using reserved words: `class` → `customer_class`\n",
    "\n",
    "### Next Up: Lists and Dictionaries\n",
    "In the next notebook, we'll learn how to store multiple related values together - like having multiple customers, products, or orders in organized collections.\n",
    "\n",
    "**Continue to**: `03_lists_and_dictionaries.ipynb`"
   ]
  }
 ],
 "metadata": {
  "kernelspec": {
   "display_name": "Python 3",
   "language": "python",
   "name": "python3"
  },
  "language_info": {
   "codemirror_mode": {
    "name": "ipython",
    "version": 3
   },
   "file_extension": ".py",
   "name": "python",
   "nbconvert_exporter": "python",
   "pygments_lexer": "ipython3",
   "version": "3.8.5"
  }
 },
 "nbformat": 4,
 "nbformat_minor": 4
}
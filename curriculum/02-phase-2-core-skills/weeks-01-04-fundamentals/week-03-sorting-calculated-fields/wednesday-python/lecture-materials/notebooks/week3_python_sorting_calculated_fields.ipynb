{
 "cells": [
  {
   "cell_type": "markdown",
   "metadata": {
    "id": "header-cell"
   },
   "source": [
    "# Week 3: Sorting & Calculated Fields in Python\n",
    "## Nigerian E-commerce Analytics with Pandas\n",
    "\n",
    "**Course**: PORA Academy Cohort 5 - Data Analytics & AI Bootcamp  \n",
    "**Week**: 3 of 24  \n",
    "**Date**: August 27, 2025  \n",
    "**Duration**: 2 hours  \n",
    "\n",
    "### Business Context\n",
    "You are a data analyst for **Olist Nigeria**, a major e-commerce marketplace. Your task is to analyze order pricing patterns, create business metrics, and sort data to discover insights that drive strategic decisions.\n",
    "\n",
    "### Learning Objectives\n",
    "By the end of this session, you will be able to:\n",
    "1. **Create calculated columns** using arithmetic operations and business logic\n",
    "2. **Sort DataFrames** with single and multiple criteria\n",
    "3. **Apply conditional logic** for business categorization\n",
    "4. **Handle string manipulations** for data cleaning\n",
    "5. **Build e-commerce KPIs** and performance metrics"
   ]
  },
  {
   "cell_type": "markdown",
   "metadata": {
    "id": "setup-cell"
   },
   "source": [
    "## 📚 Setup and Data Loading\n",
    "\n",
    "First, let's import our libraries and load the Olist e-commerce dataset."
   ]
  },
  {
   "cell_type": "code",
   "execution_count": null,
   "metadata": {
    "id": "imports-cell"
   },
   "outputs": [],
   "source": [
    "import pandas as pd\n",
    "import numpy as np\n",
    "import matplotlib.pyplot as plt\n",
    "import seaborn as sns\n",
    "from datetime import datetime\n",
    "import warnings\n",
    "warnings.filterwarnings('ignore')\n",
    "\n",
    "# Set pandas display options for better output\n",
    "pd.set_option('display.max_columns', None)\n",
    "pd.set_option('display.width', None)\n",
    "pd.set_option('display.float_format', '{:.2f}'.format)\n",
    "\n",
    "print(\"📦 Libraries imported successfully!\")\n",
    "print(f\"🐼 Pandas version: {pd.__version__}\")\n",
    "print(f\"🔢 NumPy version: {np.__version__}\")"
   ]
  },
  {
   "cell_type": "code",
   "execution_count": null,
   "metadata": {
    "id": "data-loading-cell"
   },
   "outputs": [],
   "source": [
    "# Load the Olist e-commerce dataset\n",
    "# Note: In a real scenario, students would upload their CSV files to Colab\n",
    "\n",
    "# For this demo, we'll create sample data that mirrors the actual Olist structure\n",
    "np.random.seed(42)  # For reproducible results\n",
    "\n",
    "# Create sample e-commerce data\n",
    "n_orders = 1000\n",
    "\n",
    "# Generate realistic order data\n",
    "order_data = {\n",
    "    'order_id': [f'order_{i:06d}' for i in range(n_orders)],\n",
    "    'order_item_id': np.random.randint(1, 5, n_orders),\n",
    "    'product_id': [f'prod_{np.random.randint(1000, 9999):04d}' for _ in range(n_orders)],\n",
    "    'seller_id': [f'seller_{np.random.randint(100, 999):03d}' for _ in range(n_orders)],\n",
    "    'price': np.random.exponential(100, n_orders).round(2),\n",
    "    'freight_value': np.random.exponential(15, n_orders).round(2),\n",
    "    'product_category_name_english': np.random.choice([\n",
    "        'health_beauty', 'computers_accessories', 'watches_gifts', 'toys', \n",
    "        'electronics', 'bed_bath_table', 'sports_leisure', 'furniture_decor',\n",
    "        'housewares', 'auto', 'telephony', 'garden_tools'\n",
    "    ], n_orders),\n",
    "    'product_weight_g': np.random.lognormal(6, 1, n_orders).astype(int),\n",
    "    'product_length_cm': np.random.randint(10, 100, n_orders),\n",
    "    'product_height_cm': np.random.randint(5, 50, n_orders),\n",
    "    'product_width_cm': np.random.randint(10, 80, n_orders)\n",
    "}\n",
    "\n",
    "# Introduce some realistic missing values\n",
    "missing_indices = np.random.choice(n_orders, size=int(n_orders * 0.1), replace=False)\n",
    "for idx in missing_indices:\n",
    "    order_data['product_weight_g'][idx] = np.nan\n",
    "\n",
    "# Create DataFrame\n",
    "df = pd.DataFrame(order_data)\n",
    "\n",
    "print(\"🛒 E-commerce dataset loaded successfully!\")\n",
    "print(f\"📊 Dataset shape: {df.shape}\")\n",
    "print(\"\\n🔍 First few rows:\")\n",
    "df.head()"
   ]
  },
  {
   "cell_type": "code",
   "execution_count": null,
   "metadata": {
    "id": "data-exploration-cell"
   },
   "outputs": [],
   "source": [
    "# Quick data exploration\n",
    "print(\"📋 Dataset Information:\")\n",
    "print(df.info())\n",
    "print(\"\\n📈 Basic Statistics:\")\n",
    "print(df.describe())\n",
    "print(\"\\n🏷️ Product Categories:\")\n",
    "print(df['product_category_name_english'].value_counts())"
   ]
  },
  {
   "cell_type": "markdown",
   "metadata": {
    "id": "module1-header"
   },
   "source": [
    "## 🧮 Module 1: Creating Calculated Columns\n",
    "\n",
    "In e-commerce analysis, raw data only tells part of the story. We need to create calculated fields that provide business insights."
   ]
  },
  {
   "cell_type": "markdown",
   "metadata": {
    "id": "basic-calculations"
   },
   "source": [
    "### 1.1 Basic Arithmetic Operations"
   ]
  },
  {
   "cell_type": "code",
   "execution_count": null,
   "metadata": {
    "id": "basic-calc-cell"
   },
   "outputs": [],
   "source": [
    "# 💰 Basic business calculations\n",
    "\n",
    "# Total order value (price + shipping)\n",
    "df['total_order_value'] = df['price'] + df['freight_value']\n",
    "\n",
    "# Platform commission (10% of product price)\n",
    "df['platform_commission'] = df['price'] * 0.10\n",
    "\n",
    "# Processing fee (5% of total order value)\n",
    "df['processing_fee'] = df['total_order_value'] * 0.05\n",
    "\n",
    "# Net revenue (total - commission - processing fee)\n",
    "df['net_revenue'] = df['total_order_value'] - df['platform_commission'] - df['processing_fee']\n",
    "\n",
    "print(\"💰 Basic Financial Calculations:\")\n",
    "print(df[['order_id', 'price', 'freight_value', 'total_order_value', 'platform_commission', 'net_revenue']].head())\n",
    "\n",
    "# Summary statistics for new fields\n",
    "print(\"\\n📊 Summary Statistics for Calculated Fields:\")\n",
    "print(df[['total_order_value', 'platform_commission', 'net_revenue']].describe())"
   ]
  },
  {
   "cell_type": "markdown",
   "metadata": {
    "id": "advanced-calculations"
   },
   "source": [
    "### 1.2 Advanced E-commerce Metrics"
   ]
  },
  {
   "cell_type": "code",
   "execution_count": null,
   "metadata": {
    "id": "advanced-calc-cell"
   },
   "outputs": [],
   "source": [
    "# 🎯 Advanced business KPIs\n",
    "\n",
    "# Freight as percentage of product price (key logistics KPI)\n",
    "df['freight_percentage'] = (df['freight_value'] / df['price'] * 100).round(2)\n",
    "\n",
    "# Price per gram (efficiency metric for weight-based products)\n",
    "df['price_per_gram'] = (df['price'] / df['product_weight_g']).round(4)\n",
    "\n",
    "# Product volume for packaging optimization\n",
    "df['volume_cm3'] = df['product_length_cm'] * df['product_height_cm'] * df['product_width_cm']\n",
    "\n",
    "# Value density (price per cubic cm) - premium product indicator\n",
    "df['value_density'] = (df['price'] / df['volume_cm3']).round(6)\n",
    "\n",
    "# Shipping cost per gram (logistics efficiency)\n",
    "df['shipping_cost_per_gram'] = (df['freight_value'] / df['product_weight_g']).round(4)\n",
    "\n",
    "# Handle infinite and NaN values from division operations\n",
    "for col in ['price_per_gram', 'value_density', 'shipping_cost_per_gram']:\n",
    "    df[col] = df[col].replace([np.inf, -np.inf], np.nan)\n",
    "\n",
    "print(\"🎯 Advanced E-commerce Metrics:\")\n",
    "print(df[['price', 'freight_percentage', 'price_per_gram', 'value_density', 'shipping_cost_per_gram']].head(10))\n",
    "\n",
    "# Check for missing values in calculated fields\n",
    "print(\"\\n🔍 Missing Values in Calculated Fields:\")\n",
    "missing_calc = df[['price_per_gram', 'value_density', 'shipping_cost_per_gram']].isnull().sum()\n",
    "print(missing_calc)"
   ]
  },
  {
   "cell_type": "markdown",
   "metadata": {
    "id": "currency-conversion"
   },
   "source": [
    "### 1.3 Currency Conversion for Nigerian Market"
   ]
  },
  {
   "cell_type": "code",
   "execution_count": null,
   "metadata": {
    "id": "currency-cell"
   },
   "outputs": [],
   "source": [
    "# 💱 Convert Brazilian Real (BRL) to Nigerian Naira (NGN)\n",
    "# Exchange rate approximation: 1 BRL = 500 NGN (simplified for learning)\n",
    "\nEXCHANGE_RATE_NGN = 500\n",
    "\n",
    "# Convert key financial metrics to Naira\n",
    "df['price_ngn'] = (df['price'] * EXCHANGE_RATE_NGN).round(0)\n",
    "df['freight_ngn'] = (df['freight_value'] * EXCHANGE_RATE_NGN).round(0) \n",
    "df['total_value_ngn'] = (df['total_order_value'] * EXCHANGE_RATE_NGN).round(0)\n",
    "df['commission_ngn'] = (df['platform_commission'] * EXCHANGE_RATE_NGN).round(0)\n",
    "\n",
    "print(\"💱 Currency Conversion (BRL → NGN):\")\n",
    "print(df[['price', 'price_ngn', 'freight_value', 'freight_ngn', 'total_order_value', 'total_value_ngn']].head())\n",
    "\n",
    "# Nigerian market price ranges\n",
    "print(\"\\n🇳🇬 Nigerian Naira Price Distribution:\")\n",
    "print(f\"Minimum order value: ₦{df['total_value_ngn'].min():,.0f}\")\n",
    "print(f\"Maximum order value: ₦{df['total_value_ngn'].max():,.0f}\")\n",
    "print(f\"Average order value: ₦{df['total_value_ngn'].mean():,.0f}\")\n",
    "print(f\"Median order value: ₦{df['total_value_ngn'].median():,.0f}\")"
   ]
  },
  {
   "cell_type": "markdown",
   "metadata": {
    "id": "module2-header"
   },
   "source": [
    "## 📊 Module 2: Data Sorting with sort_values()\n",
    "\n",
    "Strategic sorting helps identify top performers, problem areas, and optimization opportunities."
   ]
  },
  {
   "cell_type": "markdown",
   "metadata": {
    "id": "single-sort"
   },
   "source": [
    "### 2.1 Single Column Sorting"
   ]
  },
  {
   "cell_type": "code",
   "execution_count": null,
   "metadata": {
    "id": "single-sort-cell"
   },
   "outputs": [],
   "source": [
    "# 🏆 Find highest value orders (VIP customer identification)\n",
    "highest_value = df.sort_values('total_order_value', ascending=False)\n",
    "print(\"🏆 Top 10 Highest Value Orders:\")\n",
    "print(highest_value[['order_id', 'price', 'freight_value', 'total_order_value', 'total_value_ngn']].head(10))\n",
    "\n",
    "print(\"\\n\" + \"=\"*50)\n",
    "\n",
    "# ⚡ Find most efficient shipping (lowest freight percentage)\n",
    "efficient_shipping = df[df['freight_percentage'].notna()].sort_values('freight_percentage', ascending=True)\n",
    "print(\"⚡ Most Efficient Shipping (Lowest Freight %):\")\n",
    "print(efficient_shipping[['order_id', 'price', 'freight_value', 'freight_percentage']].head(10))\n",
    "\n",
    "print(\"\\n\" + \"=\"*50)\n",
    "\n",
    "# 💎 Products with highest value density (premium products)\n",
    "premium_products = df[df['value_density'].notna()].sort_values('value_density', ascending=False)\n",
    "print(\"💎 Highest Value Density Products (Premium Items):\")\n",
    "print(premium_products[['product_id', 'product_category_name_english', 'price', 'volume_cm3', 'value_density']].head(10))"
   ]
  },
  {
   "cell_type": "markdown",
   "metadata": {
    "id": "multi-sort"
   },
   "source": [
    "### 2.2 Multiple Column Sorting"
   ]
  },
  {
   "cell_type": "code",
   "execution_count": null,
   "metadata": {
    "id": "multi-sort-cell"
   },
   "outputs": [],
   "source": [
    "# 🎯 Multi-level sorting for comprehensive business analysis\n",
    "# Sort by: Category (A-Z) → Highest Value → Best Shipping Efficiency\n",
    "\n",
    "df_sorted = df.sort_values(\n",
    "    ['product_category_name_english', 'total_order_value', 'freight_percentage'],\n",
    "    ascending=[True, False, True],  # Category A-Z, highest value first, best shipping first\n",
    "    na_position='last'  # Put NaN values at the end\n",
    ")\n",
    "\n",
    "print(\"🎯 Multi-level Sorting: Category → Value → Shipping Efficiency\")\n",
    "\n",
    "# Focus on key categories for analysis\n",
    "key_categories = ['health_beauty', 'computers_accessories', 'watches_gifts', 'electronics']\n",
    "category_analysis = df_sorted[df_sorted['product_category_name_english'].isin(key_categories)]\n",
    "\n",
    "print(category_analysis[[\n",
    "    'product_category_name_english', 'price', 'total_order_value', \n",
    "    'freight_percentage', 'total_value_ngn'\n",
    "]].head(20))"
   ]
  },
  {
   "cell_type": "code",
   "execution_count": null,
   "metadata": {
    "id": "top-per-category-cell"
   },
   "outputs": [],
   "source": [
    "# 🏅 Get top 3 products per category (business insight)\n",
    "\n",
    "def get_top_n_per_category(df, n=3):\n",
    "    \"\"\"Get top N products by value for each category\"\"\"\n",
    "    return df.groupby('product_category_name_english').apply(\n",
    "        lambda x: x.nlargest(n, 'total_order_value')\n",
    "    ).reset_index(drop=True)\n",
    "\n",
    "top_per_category = get_top_n_per_category(df, 3)\n",
    "\n",
    "print(\"🏅 Top 3 Products per Category by Order Value:\")\n",
    "display_cols = ['product_category_name_english', 'price', 'total_order_value', 'freight_percentage', 'total_value_ngn']\n",
    "print(top_per_category[display_cols].head(15))\n",
    "\n",
    "# Category performance summary\n",
    "print(\"\\n📋 Category Performance Summary:\")\n",
    "category_summary = top_per_category.groupby('product_category_name_english').agg({\n",
    "    'total_order_value': ['mean', 'max'],\n",
    "    'freight_percentage': 'mean'\n",
    "}).round(2)\n",
    "print(category_summary)"
   ]
  },
  {
   "cell_type": "markdown",
   "metadata": {
    "id": "module3-header"
   },
   "source": [
    "## 🧠 Module 3: Conditional Logic and Categorization\n",
    "\n",
    "Business categorization enables targeted strategies and operational decisions."
   ]
  },
  {
   "cell_type": "markdown",
   "metadata": {
    "id": "simple-conditions"
   },
   "source": [
    "### 3.1 Simple Conditions with numpy.where"
   ]
  },
  {
   "cell_type": "code",
   "execution_count": null,
   "metadata": {
    "id": "simple-conditions-cell"
   },
   "outputs": [],
   "source": [
    "# 🏷️ Simple binary and multi-level categorization\n",
    "\n",
    "# Value tier classification\n",
    "df['value_tier'] = np.where(df['price'] > 200, 'High Value', 'Standard Value')\n",
    "\n",
    "# Shipping cost evaluation\n",
    "df['shipping_tier'] = np.where(\n",
    "    df['freight_value'] == 0, 'Free Shipping',\n",
    "    np.where(\n",
    "        df['freight_value'] < 10, 'Low Shipping',\n",
    "        np.where(\n",
    "            df['freight_value'] < 25, 'Standard Shipping',\n",
    "            'High Shipping'\n",
    "        )\n",
    "    )\n",
    ")\n",
    "\n",
    "# Nigerian market pricing categories (in Naira)\n",
    "df['naira_price_category'] = np.where(\n",
    "    df['total_value_ngn'] < 25000, 'Budget (₦0-25K)',\n",
    "    np.where(\n",
    "        df['total_value_ngn'] < 100000, 'Economy (₦25K-100K)',\n",
    "        np.where(\n",
    "            df['total_value_ngn'] < 250000, 'Premium (₦100K-250K)',\n",
    "            'Luxury (₦250K+)'\n",
    "        )\n",
    "    )\n",
    ")\n",
    "\n",
    "print(\"🏷️ Simple Business Categorization:\")\n",
    "print(df[['price', 'value_tier', 'freight_value', 'shipping_tier', 'total_value_ngn', 'naira_price_category']].head(10))\n",
    "\n",
    "# Distribution analysis\n",
    "print(\"\\n📊 Category Distributions:\")\n",
    "print(\"Value Tier:\")\n",
    "print(df['value_tier'].value_counts())\n",
    "print(\"\\nNigerian Price Categories:\")\n",
    "print(df['naira_price_category'].value_counts())"
   ]
  },
  {
   "cell_type": "markdown",
   "metadata": {
    "id": "advanced-conditions"
   },
   "source": [
    "### 3.2 Advanced Conditional Logic with Custom Functions"
   ]
  },
  {
   "cell_type": "code",
   "execution_count": null,
   "metadata": {
    "id": "advanced-conditions-cell"
   },
   "outputs": [],
   "source": [
    "# 🎯 Complex business categorization functions\n",
    "\n",
    "def categorize_shipping_efficiency(freight_pct):\n",
    "    \"\"\"Categorize shipping efficiency with star ratings\"\"\"\n",
    "    if pd.isna(freight_pct):\n",
    "        return 'Unknown'\n",
    "    elif freight_pct < 5:\n",
    "        return 'Excellent ⭐⭐⭐⭐⭐'\n",
    "    elif freight_pct < 10:\n",
    "        return 'Very Good ⭐⭐⭐⭐'\n",
    "    elif freight_pct < 20:\n",
    "        return 'Good ⭐⭐⭐'\n",
    "    elif freight_pct < 30:\n",
    "        return 'Average ⭐⭐'\n",
    "    else:\n",
    "        return 'Needs Improvement ⭐'\n",
    "\n",
    "def categorize_business_priority(row):\n",
    "    \"\"\"Complex business priority based on multiple factors\"\"\"\n",
    "    price = row['price']\n",
    "    freight_pct = row['freight_percentage'] if pd.notna(row['freight_percentage']) else 100\n",
    "    weight = row['product_weight_g'] if pd.notna(row['product_weight_g']) else 1000\n",
    "    \n",
    "    if price > 500 and freight_pct < 15 and weight < 2000:\n",
    "        return 'VIP Priority 🏆'\n",
    "    elif price > 300 and freight_pct < 20:\n",
    "        return 'High Priority 🚀'\n",
    "    elif price > 100 and freight_pct < 25:\n",
    "        return 'Standard Priority ✅'\n",
    "    elif freight_pct > 40:\n",
    "        return 'Review Required ⚠️'\n",
    "    else:\n",
    "        return 'Low Priority 📦'\n",
    "\n",
    "def categorize_weight_class(weight):\n",
    "    \"\"\"Categorize products by weight for logistics planning\"\"\"\n",
    "    if pd.isna(weight):\n",
    "        return 'Unknown'\n",
    "    elif weight < 500:\n",
    "        return 'Light'\n",
    "    elif weight < 2000:\n",
    "        return 'Medium'\n",
    "    elif weight < 5000:\n",
    "        return 'Heavy'\n",
    "    else:\n",
    "        return 'Bulk'\n",
    "\n",
    "# Apply categorization functions\n",
    "df['shipping_efficiency_score'] = df['freight_percentage'].apply(categorize_shipping_efficiency)\n",
    "df['business_priority'] = df.apply(categorize_business_priority, axis=1)\n",
    "df['weight_category'] = df['product_weight_g'].apply(categorize_weight_class)\n",
    "\n",
    "print(\"🎯 Advanced Business Categorization:\")\n",
    "print(df[['price', 'freight_percentage', 'shipping_efficiency_score', 'business_priority', 'weight_category']].head(12))"
   ]
  },
  {
   "cell_type": "code",
   "execution_count": null,
   "metadata": {
    "id": "business-analysis-cell"
   },
   "outputs": [],
   "source": [
    "# 📊 Business priority distribution and analysis\n",
    "\n",
    "print(\"📊 Business Priority Distribution:\")\n",
    "priority_counts = df['business_priority'].value_counts()\n",
    "print(priority_counts)\n",
    "print(f\"\\nPercentage breakdown:\")\n",
    "priority_pct = (priority_counts / len(df) * 100).round(1)\n",
    "for priority, pct in priority_pct.items():\n",
    "    print(f\"{priority}: {pct}%\")\n",
    "\n",
    "print(\"\\n\" + \"=\"*60)\n",
    "\n",
    "# Shipping efficiency analysis\n",
    "print(\"⚡ Shipping Efficiency Analysis:\")\n",
    "efficiency_counts = df['shipping_efficiency_score'].value_counts()\n",
    "print(efficiency_counts)\n",
    "\n",
    "print(\"\\n\" + \"=\"*60)\n",
    "\n",
    "# Weight category distribution\n",
    "print(\"⚖️ Product Weight Distribution:\")\n",
    "weight_counts = df['weight_category'].value_counts()\n",
    "print(weight_counts)"
   ]
  },
  {
   "cell_type": "markdown",
   "metadata": {
    "id": "module4-header"
   },
   "source": [
    "## 🔤 Module 4: String Manipulation for Business Data\n",
    "\n",
    "Clean, standardized text data is essential for professional business reporting."
   ]
  },
  {
   "cell_type": "code",
   "execution_count": null,
   "metadata": {
    "id": "string-manipulation-cell"
   },
   "outputs": [],
   "source": [
    "# 🧹 String operations for business applications\n",
    "\n",
    "# Create standardized order codes\n",
    "df['order_code_prefix'] = df['order_id'].str[:8].str.upper()\n",
    "\n",
    "# Clean and format category names\n",
    "df['category_clean'] = df['product_category_name_english'].str.title().str.replace('_', ' ')\n",
    "\n",
    "# Generate business-ready SKU codes\n",
    "df['generated_sku'] = (\n",
    "    df['product_category_name_english'].str[:3].str.upper() + '-' +\n",
    "    df['order_item_id'].astype(str) + '-' +\n",
    "    df['product_id'].str.replace('prod_', '').str[:4]\n",
    ")\n",
    "\n",
    "# Format currency displays for reports\n",
    "df['price_display_brl'] = df['price'].apply(lambda x: f'R$ {x:.2f}')\n",
    "df['price_display_ngn'] = df['price_ngn'].apply(lambda x: f'₦ {x:,.0f}')\n",
    "\n",
    "# Weight display with proper units\n",
    "df['weight_display'] = df['product_weight_g'].apply(\n",
    "    lambda x: f'{x:.0f}g' if pd.notna(x) else 'Weight not specified'\n",
    ")\n",
    "\n",
    "# Dimension summary\n",
    "df['dimensions_display'] = (\n",
    "    df['product_length_cm'].astype(str) + '×' +\n",
    "    df['product_height_cm'].astype(str) + '×' +\n",
    "    df['product_width_cm'].astype(str) + ' cm'\n",
    ")\n",
    "\n",
    "print(\"🧹 String Manipulation for Business Presentation:\")\n",
    "display_cols = [\n",
    "    'order_code_prefix', 'category_clean', 'generated_sku', \n",
    "    'price_display_brl', 'price_display_ngn', 'weight_display'\n",
    "]\n",
    "print(df[display_cols].head(10))"
   ]
  },
  {
   "cell_type": "code",
   "execution_count": null,
   "metadata": {
    "id": "text-analysis-cell"
   },
   "outputs": [],
   "source": [
    "# 🔍 Text analysis for data quality assessment\n",
    "\n",
    "# Category name analysis\n",
    "df['category_name_length'] = df['product_category_name_english'].str.len()\n",
    "df['category_word_count'] = df['product_category_name_english'].str.split('_').str.len()\n",
    "\n",
    "# Order ID validation\n",
    "df['order_id_valid'] = df['order_id'].str.len() == 12  # Check expected format\n",
    "\n",
    "print(\"🔍 Text Analysis and Data Quality:\")\n",
    "print(f\"Average category name length: {df['category_name_length'].mean():.1f} characters\")\n",
    "print(f\"Average words per category: {df['category_word_count'].mean():.1f} words\")\n",
    "print(f\"Order ID format validity: {df['order_id_valid'].sum()}/{len(df)} ({df['order_id_valid'].mean()*100:.1f}%)\")\n",
    "\n",
    "print(\"\\n📊 Category Name Length Distribution:\")\n",
    "length_stats = df.groupby('product_category_name_english')['category_name_length'].agg(['mean', 'min', 'max']).round(1)\n",
    "print(length_stats.head(8))"
   ]
  },
  {
   "cell_type": "markdown",
   "metadata": {
    "id": "exercise-header"
   },
   "source": [
    "## 🎯 Hands-On Practice: Nigerian E-commerce Pricing Analysis\n",
    "\n",
    "**Business Challenge**: Olist Nigeria wants to analyze their product portfolio and rank products by strategic importance for business growth."
   ]
  },
  {
   "cell_type": "markdown",
   "metadata": {
    "id": "exercise-requirements"
   },
   "source": [
    "### Exercise Requirements:\n",
    "1. Calculate total value including shipping for each order\n",
    "2. Create Nigerian price categories: Budget (<₦25,000), Premium (₦25,000-₦100,000), Luxury (>₦100,000)\n",
    "3. Calculate shipping efficiency score (freight as % of price)\n",
    "4. Create business recommendations based on multiple factors\n",
    "5. Sort by business importance and display top 20 products\n",
    "\n",
    "**Try to solve this yourself first, then check the solution below!**"
   ]
  },
  {
   "cell_type": "code",
   "execution_count": null,
   "metadata": {
    "id": "exercise-student-cell"
   },
   "outputs": [],
   "source": [
    "# 🎯 YOUR TURN: Complete this exercise\n",
    "\n",
    "# Step 1: Calculate total values and conversions\n",
    "# TODO: Create 'total_with_shipping' column\n",
    "# TODO: Convert to Nigerian Naira\n",
    "\n",
    "# Step 2: Create price categorization\n",
    "# TODO: Use pd.cut() or conditional logic for Nigerian price categories\n",
    "\n",
    "# Step 3: Calculate shipping efficiency \n",
    "# TODO: Calculate freight as percentage of price\n",
    "\n",
    "# Step 4: Business recommendation function\n",
    "# TODO: Create function that recommends actions based on multiple factors\n",
    "\n",
    "# Step 5: Strategic ranking\n",
    "# TODO: Sort by business importance criteria\n",
    "\n",
    "print(\"🎯 Exercise: Write your solution here!\")\n",
    "print(\"Hint: Start with Step 1 - calculating total values\")"
   ]
  },
  {
   "cell_type": "code",
   "execution_count": null,
   "metadata": {
    "id": "exercise-solution-cell"
   },
   "outputs": [],
   "source": [
    "# 🎯 SOLUTION: Nigerian E-commerce Strategic Analysis\n",
    "\n",
    "# Step 1: Calculate total values and conversions\n",
    "df['total_with_shipping'] = df['price'] + df['freight_value']\n",
    "df['total_ngn_strategic'] = df['total_with_shipping'] * 500  # Convert to Naira\n",
    "\n",
    "# Step 2: Nigerian price categorization using pd.cut()\n",
    "df['price_category_ngn'] = pd.cut(\n",
    "    df['total_ngn_strategic'],\n",
    "    bins=[0, 25000, 100000, float('inf')],\n",
    "    labels=['Budget', 'Premium', 'Luxury'],\n",
    "    include_lowest=True\n",
    ")\n",
    "\n",
    "# Step 3: Shipping efficiency calculation\n",
    "df['shipping_efficiency'] = (df['freight_value'] / df['price'] * 100).round(1)\n",
    "\n",
    "# Step 4: Business recommendation function\n",
    "def get_business_recommendation(row):\n",
    "    \"\"\"Strategic business recommendations based on multiple factors\"\"\"\n",
    "    total_ngn = row['total_ngn_strategic']\n",
    "    shipping_eff = row['shipping_efficiency'] if pd.notna(row['shipping_efficiency']) else 50\n",
    "    category = row['product_category_name_english']\n",
    "    \n",
    "    # High value with good shipping efficiency\n",
    "    if total_ngn > 100000 and shipping_eff < 15:\n",
    "        return 'Promote Heavily 🚀'\n",
    "    \n",
    "    # Premium tech/beauty products\n",
    "    elif (total_ngn > 50000 and shipping_eff < 20 and \n",
    "          category in ['computers_accessories', 'health_beauty', 'electronics']):\n",
    "        return 'Strategic Focus 🎯'\n",
    "    \n",
    "    # Budget items with good shipping - bundle opportunities\n",
    "    elif total_ngn < 25000 and shipping_eff < 25:\n",
    "        return 'Bundle Opportunity 📦'\n",
    "    \n",
    "    # Poor shipping efficiency needs review\n",
    "    elif shipping_eff > 35:\n",
    "        return 'Review Logistics ⚠️'\n",
    "    \n",
    "    # High value but poor efficiency\n",
    "    elif total_ngn > 100000 and shipping_eff > 25:\n",
    "        return 'Optimize Shipping 🔧'\n",
    "    \n",
    "    else:\n",
    "        return 'Standard Treatment ✅'\n",
    "\n",
    "# Apply business recommendation\n",
    "df['business_recommendation'] = df.apply(get_business_recommendation, axis=1)\n",
    "\n",
    "# Step 5: Strategic ranking\n",
    "# Create priority score for sorting\n",
    "priority_order = {\n",
    "    'Promote Heavily 🚀': 1,\n",
    "    'Strategic Focus 🎯': 2, \n",
    "    'Optimize Shipping 🔧': 3,\n",
    "    'Bundle Opportunity 📦': 4,\n",
    "    'Review Logistics ⚠️': 5,\n",
    "    'Standard Treatment ✅': 6\n",
    "}\n",
    "\n",
    "df['priority_score'] = df['business_recommendation'].map(priority_order)\n",
    "\n",
    "# Strategic ranking with multiple criteria\n",
    "strategic_ranking = df.sort_values([\n",
    "    'priority_score',           # Business recommendation priority\n",
    "    'total_ngn_strategic',      # Higher value first within same priority\n",
    "    'shipping_efficiency'       # Better shipping efficiency first\n",
    "], ascending=[True, False, True])\n",
    "\n",
    "print(\"🎯 Strategic Product Ranking for Nigerian Market:\")\n",
    "display_cols = [\n",
    "    'product_category_name_english', 'total_ngn_strategic', 'price_category_ngn',\n",
    "    'shipping_efficiency', 'business_recommendation'\n",
    "]\n",
    "strategic_top20 = strategic_ranking[display_cols].head(20)\n",
    "print(strategic_top20)\n",
    "\n",
    "print(\"\\n📊 Business Recommendation Summary:\")\n",
    "recommendation_summary = df['business_recommendation'].value_counts()\n",
    "print(recommendation_summary)"
   ]
  },
  {
   "cell_type": "markdown",
   "metadata": {
    "id": "visualization-section"
   },
   "source": [
    "## 📈 Data Visualization: Business Insights Dashboard"
   ]
  },
  {
   "cell_type": "code",
   "execution_count": null,
   "metadata": {
    "id": "visualization-cell"
   },
   "outputs": [],
   "source": [
    "# 📈 Create business visualizations\n",
    "\n",
    "plt.figure(figsize=(15, 12))\n",
    "\n",
    "# Subplot 1: Price distribution by category\n",
    "plt.subplot(2, 3, 1)\n",
    "df.boxplot(column='total_ngn_strategic', by='price_category_ngn', ax=plt.gca())\n",
    "plt.title('Order Value Distribution by Price Category')\n",
    "plt.xlabel('Price Category')\n",
    "plt.ylabel('Total Value (NGN)')\n",
    "plt.yscale('log')\n",
    "\n",
    "# Subplot 2: Shipping efficiency distribution\n",
    "plt.subplot(2, 3, 2)\n",
    "df[df['shipping_efficiency'] < 100]['shipping_efficiency'].hist(bins=20, alpha=0.7, color='skyblue')\n",
    "plt.title('Shipping Efficiency Distribution')\n",
    "plt.xlabel('Freight as % of Price')\n",
    "plt.ylabel('Number of Orders')\n",
    "\n",
    "# Subplot 3: Business recommendations\n",
    "plt.subplot(2, 3, 3)\n",
    "recommendation_counts = df['business_recommendation'].value_counts()\n",
    "plt.pie(recommendation_counts.values, labels=recommendation_counts.index, autopct='%1.1f%%')\n",
    "plt.title('Business Recommendations Distribution')\n",
    "\n",
    "# Subplot 4: Category performance\n",
    "plt.subplot(2, 3, 4)\n",
    "category_avg = df.groupby('product_category_name_english')['total_ngn_strategic'].mean().sort_values(ascending=False).head(8)\n",
    "plt.bar(range(len(category_avg)), category_avg.values, color='lightcoral')\n",
    "plt.title('Average Order Value by Category')\n",
    "plt.xlabel('Product Category')\n",
    "plt.ylabel('Average Order Value (NGN)')\n",
    "plt.xticks(range(len(category_avg)), [cat.replace('_', '\\n') for cat in category_avg.index], rotation=45, ha='right')\n",
    "\n",
    "# Subplot 5: Value density vs shipping efficiency scatter\n",
    "plt.subplot(2, 3, 5)\n",
    "scatter_data = df[(df['value_density'].notna()) & (df['shipping_efficiency'] < 50)]\n",
    "plt.scatter(scatter_data['shipping_efficiency'], scatter_data['value_density'], \n",
    "           alpha=0.6, c=scatter_data['total_ngn_strategic'], cmap='viridis')\n",
    "plt.xlabel('Shipping Efficiency (%)')\n",
    "plt.ylabel('Value Density (BRL/cm³)')\n",
    "plt.title('Value Density vs Shipping Efficiency')\n",
    "plt.colorbar(label='Total Value (NGN)')\n",
    "\n",
    "# Subplot 6: Weight category distribution\n",
    "plt.subplot(2, 3, 6)\n",
    "weight_counts = df['weight_category'].value_counts()\n",
    "plt.bar(weight_counts.index, weight_counts.values, color='lightgreen')\n",
    "plt.title('Product Weight Category Distribution')\n",
    "plt.xlabel('Weight Category')\n",
    "plt.ylabel('Number of Products')\n",
    "plt.xticks(rotation=45)\n",
    "\n",
    "plt.tight_layout()\n",
    "plt.show()\n",
    "\n",
    "print(\"📈 Business Dashboard Visualizations Created!\")"
   ]
  },
  {
   "cell_type": "markdown",
   "metadata": {
    "id": "summary-section"
   },
   "source": [
    "## 🎯 Key Takeaways & Business Insights\n",
    "\n",
    "### What We've Learned:\n",
    "1. **Calculated Columns**: Created business-relevant metrics from raw e-commerce data\n",
    "2. **Strategic Sorting**: Identified top performers and optimization opportunities\n",
    "3. **Conditional Logic**: Built sophisticated categorization systems for business decisions\n",
    "4. **String Operations**: Cleaned and formatted data for professional presentation\n",
    "\n",
    "### Business Insights Discovered:\n",
    "- **High-Value Opportunities**: Products worth promoting based on value and efficiency\n",
    "- **Logistics Optimization**: Items with poor shipping efficiency need review\n",
    "- **Market Segmentation**: Clear price tiers for Nigerian market positioning\n",
    "- **Operational Priorities**: Data-driven fulfillment and customer service priorities\n",
    "\n",
    "### Tomorrow's SQL Connection:\n",
    "These same business calculations will be implemented in SQL using:\n",
    "- DataFrame columns → SELECT calculated fields  \n",
    "- `sort_values()` → ORDER BY clauses\n",
    "- Custom functions → CASE statements\n",
    "- Conditional logic → WHERE and HAVING clauses\n",
    "\n",
    "The business logic remains identical - only the syntax changes!"
   ]
  },
  {
   "cell_type": "markdown",
   "metadata": {
    "id": "homework-section"
   },
   "source": [
    "## 📝 Practice Assignment Preview\n",
    "\n",
    "**Assignment**: Seller Performance Analysis for Olist Nigeria\n",
    "\n",
    "**Your Task**: Analyze seller performance metrics to identify top performers and growth opportunities:\n",
    "\n",
    "1. **Calculate seller KPIs**: Average order value, shipping efficiency, product diversity\n",
    "2. **Create performance tiers**: Platinum, Gold, Silver, Bronze seller classifications\n",
    "3. **Identify growth opportunities**: Sellers with high potential but current challenges\n",
    "4. **Generate business recommendations**: Actionable insights for seller relationship management\n",
    "\n",
    "**Deliverables**:\n",
    "- Jupyter notebook with complete analysis\n",
    "- Business dashboard visualizations\n",
    "- Executive summary of findings and recommendations\n",
    "\n",
    "**Due**: Before next Thursday's SQL class (synchronization with SQL assignment)"
   ]
  },
  {
   "cell_type": "markdown",
   "metadata": {
    "id": "resources-section"
   },
   "source": [
    "## 📚 Additional Resources\n",
    "\n",
    "### Python Documentation:\n",
    "- [Pandas User Guide](https://pandas.pydata.org/docs/user_guide/)\n",
    "- [NumPy Documentation](https://numpy.org/doc/stable/)\n",
    "- [Data Manipulation with pandas](https://pandas.pydata.org/docs/user_guide/cookbook.html)\n",
    "\n",
    "### Business Context:\n",
    "- Nigerian E-commerce Market Analysis\n",
    "- E-commerce KPIs and Metrics Guide\n",
    "- Data-Driven Decision Making in Retail\n",
    "\n",
    "### Next Session Preview:\n",
    "- **Thursday**: Same business logic implemented in SQL\n",
    "- **Week 4**: Aggregations and summary statistics (GROUP BY operations)\n",
    "- **Week 5**: Date/time operations for temporal analysis\n",
    "\n",
    "---\n",
    "\n",
    "**🎉 Congratulations! You've completed Week 3 Python content. You now have the skills to create calculated fields and sort data like a professional e-commerce analyst!**"
   ]
  }
 ],
 "metadata": {
  "colab": {
   "provenance": [],
   "toc_visible": true
  },
  "kernelspec": {
   "display_name": "Python 3",
   "name": "python3"
  },
  "language_info": {
   "name": "python"
  }
 },
 "nbformat": 4,
 "nbformat_minor": 0
}
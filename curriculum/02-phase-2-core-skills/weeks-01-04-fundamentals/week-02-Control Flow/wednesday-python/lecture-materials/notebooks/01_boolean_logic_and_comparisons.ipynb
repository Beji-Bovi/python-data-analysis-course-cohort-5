{
 "cells": [
  {
   "cell_type": "markdown",
   "metadata": {},
   "source": "# Week 02 - Python Operators & Control Structures\n\n## From Excel Formulas to Python Automation\n\n**Welcome to Week 2!** Today we're taking your Excel formulas and IF statements and supercharging them with Python automation.\n\n**What you already know from Excel:**\n- Arithmetic formulas: `=A2*1.075` for tax calculations\n- IF statements: `=IF(A2>1000, \"High\", \"Low\")`\n- Nested IFs: `=IF(A2>500000, \"VIP\", IF(A2>100000, \"Premium\", \"Standard\"))`\n- Complex calculations with multiple conditions\n\n**What you'll learn today:**\n- Python arithmetic operators for business calculations\n- Boolean logic and comparison operators (foundation for all decisions)\n- if/elif/else statements for automated decision-making\n- for and while loops for repetitive business tasks\n- Advanced control structures for complex business automation\n\n**Business Scenario: NaijaCommerce Pricing & Customer Automation**\nYou're building automated pricing systems and customer tier management for NaijaCommerce, Nigeria's growing e-commerce platform. Today you'll learn to calculate prices, assign customer tiers, and automate repetitive business processes."
  },
  {
   "cell_type": "markdown",
   "metadata": {},
   "source": "## Part 1: Arithmetic Operators for Business Calculations\n\n**Excel Connection:** Just like Excel's =A1+B1, =A1*1.075 for tax calculations\n\nLet's start with the foundation of all business calculations - arithmetic operators."
  },
  {
   "cell_type": "code",
   "execution_count": null,
   "metadata": {},
   "outputs": [],
   "source": "# Import our data analysis tools\nimport pandas as pd\nimport numpy as np\n\n# Sample business data - like having values in Excel cells\nbase_price = 25000  # Base price in Naira\ntax_rate = 0.075    # 7.5% VAT in Nigeria\nquantity = 5        # Number of items\ndiscount_percentage = 10  # 10% discount\n\nprint(\"=== ARITHMETIC OPERATORS IN ACTION ===\")\nprint(f\"Base price: ₦{base_price:,}\")\nprint(f\"Tax rate: {tax_rate*100}%\")\nprint(f\"Quantity: {quantity}\")\nprint(f\"Discount: {discount_percentage}%\")"
  },
  {
   "cell_type": "code",
   "execution_count": null,
   "metadata": {},
   "outputs": [],
   "source": "# Basic arithmetic operators (+, -, *, /)\nprint(\"\\n=== BASIC ARITHMETIC CALCULATIONS ===\")\n\n# Addition: Calculate subtotal\nsubtotal = base_price * quantity\nprint(f\"Subtotal (price × quantity): ₦{base_price:,} × {quantity} = ₦{subtotal:,}\")\n\n# Subtraction: Apply discount\ndiscount_amount = subtotal * (discount_percentage / 100)\ndiscounted_total = subtotal - discount_amount\nprint(f\"Discount amount: ₦{subtotal:,} × {discount_percentage}% = ₦{discount_amount:,}\")\nprint(f\"After discount: ₦{subtotal:,} - ₦{discount_amount:,} = ₦{discounted_total:,}\")\n\n# Multiplication and Division: Add tax\ntax_amount = discounted_total * tax_rate\nfinal_total = discounted_total + tax_amount\nprint(f\"Tax amount: ₦{discounted_total:,} × {tax_rate*100}% = ₦{tax_amount:,}\")\nprint(f\"Final total: ₦{discounted_total:,} + ₦{tax_amount:,} = ₦{final_total:,}\")"
  },
  {
   "cell_type": "code",
   "execution_count": null,
   "metadata": {},
   "outputs": [],
   "source": "# Advanced arithmetic operators (**, %, //)\nprint(\"\\n=== ADVANCED ARITHMETIC OPERATORS ===\")\n\n# Exponentiation (**) - Compound interest calculation\ninitial_investment = 100000  # ₦100,000\ninterest_rate = 0.12  # 12% annual interest\nyears = 3\n\ncompound_amount = initial_investment * (1 + interest_rate) ** years\nprint(f\"Compound interest: ₦{initial_investment:,} × (1 + {interest_rate*100}%)^{years} years\")\nprint(f\"Final amount: ₦{compound_amount:,.2f}\")\n\n# Modulo (%) - Check if order number is even/odd for processing\norder_number = 12345\nremainder = order_number % 2\nprint(f\"\\nOrder #{order_number} remainder when divided by 2: {remainder}\")\nprint(f\"Order #{order_number} is {'even' if remainder == 0 else 'odd'}\")\n\n# Floor division (//) - Calculate bulk packages\nitems_per_package = 12\ntotal_items = 127\nfull_packages = total_items // items_per_package\nleftover_items = total_items % items_per_package\nprint(f\"\\n{total_items} items in packages of {items_per_package}:\")\nprint(f\"Full packages: {full_packages}\")\nprint(f\"Leftover items: {leftover_items}\")"
  },
  {
   "cell_type": "markdown",
   "metadata": {},
   "source": "## Part 2: Comparison Operators & Boolean Logic\n\n**Excel Connection:** Remember Excel's TRUE and FALSE values? Python calls these `True` and `False`.\n\nJust like Excel's `=IF(A2>1000, TRUE, FALSE)`, Python comparison operators create True/False values that we use in decision-making."
  },
  {
   "cell_type": "code",
   "execution_count": null,
   "metadata": {},
   "outputs": [],
   "source": "# Boolean basics - foundation for all decision-making\nprint(\"=== BOOLEAN LOGIC FOUNDATION ===\")\n\n# Simple boolean values (like Excel's TRUE/FALSE)\nis_vip_customer = True\nis_order_cancelled = False\nis_weekend = True\n\nprint(f\"VIP customer status: {is_vip_customer}\")\nprint(f\"Order cancelled: {is_order_cancelled}\")\nprint(f\"Weekend processing: {is_weekend}\")\nprint(f\"Type of boolean: {type(is_vip_customer)}\")\n\n# Boolean operations (AND, OR, NOT)\nprint(\"\\n=== BOOLEAN OPERATIONS ===\")\n\n# AND operation - both must be True\nvip_and_weekend = is_vip_customer and is_weekend\nprint(f\"VIP customer AND weekend: {is_vip_customer} and {is_weekend} = {vip_and_weekend}\")\n\n# OR operation - at least one must be True  \nvip_or_cancelled = is_vip_customer or is_order_cancelled\nprint(f\"VIP customer OR cancelled: {is_vip_customer} or {is_order_cancelled} = {vip_or_cancelled}\")\n\n# NOT operation - flips True/False\nnot_cancelled = not is_order_cancelled\nprint(f\"NOT cancelled: not {is_order_cancelled} = {not_cancelled}\")"
  },
  {
   "cell_type": "code",
   "execution_count": null,
   "metadata": {},
   "outputs": [],
   "source": "# Comparison operators - creating business conditions\nprint(\"\\n=== COMPARISON OPERATORS FOR BUSINESS ===\")\n\n# Sample business values\ncustomer_total_spent = 125000\norder_value = 45000\ncustomer_orders_count = 8\nstock_level = 15\nminimum_stock = 20\n\n# Equal to (==) and Not equal to (!=)\nis_exact_stock = stock_level == minimum_stock\nis_not_minimum = stock_level != minimum_stock\nprint(f\"Stock level ({stock_level}) equals minimum ({minimum_stock}): {is_exact_stock}\")\nprint(f\"Stock level is not minimum: {is_not_minimum}\")\n\n# Greater than (>) and Less than (<)\nis_high_value_customer = customer_total_spent > 100000\nis_low_stock = stock_level < minimum_stock\nprint(f\"Customer spent >₦100,000: {customer_total_spent:,} > 100,000 = {is_high_value_customer}\")\nprint(f\"Stock below minimum: {stock_level} < {minimum_stock} = {is_low_stock}\")\n\n# Greater than or equal (>=) and Less than or equal (<=)\nis_loyal_customer = customer_orders_count >= 5\nis_large_order = order_value >= 50000\nprint(f\"Loyal customer (≥5 orders): {customer_orders_count} >= 5 = {is_loyal_customer}\")\nprint(f\"Large order (≥₦50,000): ₦{order_value:,} >= ₦50,000 = {is_large_order}\")"
  },
  {
   "cell_type": "code",
   "execution_count": null,
   "metadata": {},
   "outputs": [],
   "source": "# Combining conditions for complex business logic\nprint(\"\\n=== COMBINING CONDITIONS ===\")\n\n# Complex business condition: VIP customer eligibility\n# VIP if: spent >₦500,000 AND made ≥10 orders AND not cancelled\ncustomer_spent_vip_threshold = 525000\ncustomer_order_count = 12\nis_account_active = True\n\n# Individual conditions\nspent_enough = customer_spent_vip_threshold > 500000\norders_enough = customer_order_count >= 10\naccount_good_standing = is_account_active\n\n# Combined VIP qualification\nis_vip_qualified = spent_enough and orders_enough and account_good_standing\n\nprint(\"VIP Qualification Check:\")\nprint(f\"  Spent enough (₦{customer_spent_vip_threshold:,} > ₦500,000): {spent_enough}\")\nprint(f\"  Enough orders ({customer_order_count} >= 10): {orders_enough}\")\nprint(f\"  Account active: {account_good_standing}\")\nprint(f\"  **VIP QUALIFIED: {is_vip_qualified}**\")"
  },
  {
   "cell_type": "markdown",
   "metadata": {},
   "source": "## Part 3: Conditional Statements (if/elif/else)\n\n**Excel Connection:** Python's if/elif/else is like Excel's nested IF statements\n\n| Excel | Python | Purpose |\n|-------|--------|---------| \n| `=IF(A1>1000, \"High\", \"Low\")` | `if value > 1000: tier = \"High\"` | Single condition |\n| `=IF(A1>1000, \"High\", IF(A1>500, \"Medium\", \"Low\"))` | `if/elif/else` chain | Multiple conditions |\n| Nested IF formulas | Nested if statements | Complex business rules |"
  },
  {
   "cell_type": "code",
   "execution_count": null,
   "metadata": {},
   "outputs": [],
   "source": "# Basic if statement - single condition decision\nprint(\"=== SINGLE CONDITION IF STATEMENTS ===\")\n\norder_value = 75000\nshipping_cost = 0\n\n# Simple if statement\nif order_value > 50000:\n    shipping_cost = 0  # Free shipping for orders above ₦50,000\n    print(f\"Order value: ₦{order_value:,}\")\n    print(f\"Shipping: FREE (order > ₦50,000)\")\nelse:\n    shipping_cost = 2500\n    print(f\"Order value: ₦{order_value:,}\")\n    print(f\"Shipping cost: ₦{shipping_cost:,}\")\n\nprint(f\"Total cost: ₦{order_value + shipping_cost:,}\")"
  },
  {
   "cell_type": "code",
   "execution_count": null,
   "metadata": {},
   "outputs": [],
   "source": "# if/elif/else chains - multiple conditions\nprint(\"\\n=== MULTIPLE CONDITIONS WITH IF/ELIF/ELSE ===\")\n\n# Customer tier assignment based on total spent\ncustomer_total_spent = 275000\ncustomer_tier = \"\"\ndiscount_rate = 0\n\nif customer_total_spent >= 500000:\n    customer_tier = \"Platinum\"\n    discount_rate = 0.20  # 20% discount\nelif customer_total_spent >= 250000:\n    customer_tier = \"Gold\"  \n    discount_rate = 0.15  # 15% discount\nelif customer_total_spent >= 100000:\n    customer_tier = \"Silver\"\n    discount_rate = 0.10  # 10% discount\nelif customer_total_spent >= 25000:\n    customer_tier = \"Bronze\"\n    discount_rate = 0.05  # 5% discount\nelse:\n    customer_tier = \"Standard\"\n    discount_rate = 0.00  # No discount\n\nprint(f\"Customer Analysis:\")\nprint(f\"  Total spent: ₦{customer_total_spent:,}\")\nprint(f\"  Assigned tier: {customer_tier}\")\nprint(f\"  Discount rate: {discount_rate*100}%\")\nprint(f\"  Next tier threshold: {'Already at highest tier!' if customer_tier == 'Platinum' else f'₦{500000 if customer_tier == 'Gold' else 250000 if customer_tier == 'Silver' else 100000:,}'}\")"
  },
  {
   "cell_type": "markdown",
   "metadata": {},
   "source": [
    "## Step 4: Creating Business Segments with Boolean Logic\n",
    "\n",
    "Now let's use these boolean conditions to answer real business questions."
   ]
  },
  {
   "cell_type": "markdown",
   "source": "## Part 6: Common Mistakes and How to Avoid Them\n\n**Let's learn from common operator and control structure mistakes:**",
   "metadata": {}
  },
  {
   "cell_type": "code",
   "source": "# Complete business automation example\nprint(\"\\n=== COMPLETE BUSINESS AUTOMATION SYSTEM ===\")\n\n# Multi-factor customer analysis and automated actions\ncustomers_to_process = [\n    {\"name\": \"Adaora Okafor\", \"total_spent\": 750000, \"orders\": 12, \"state\": \"Lagos\", \"last_order_days\": 15},\n    {\"name\": \"Ibrahim Sani\", \"total_spent\": 125000, \"orders\": 3, \"state\": \"Kano\", \"last_order_days\": 45},\n    {\"name\": \"Grace Okonkwo\", \"total_spent\": 45000, \"orders\": 8, \"state\": \"Abuja\", \"last_order_days\": 120},\n    {\"name\": \"Yusuf Musa\", \"total_spent\": 320000, \"orders\": 7, \"state\": \"Rivers\", \"last_order_days\": 5}\n]\n\nprint(\"Automated Customer Analysis & Action System:\")\nprint(\"=\" * 60)\n\nfor customer in customers_to_process:\n    name = customer[\"name\"]\n    spent = customer[\"total_spent\"]\n    orders = customer[\"orders\"]\n    state = customer[\"state\"]\n    days_since_order = customer[\"last_order_days\"]\n    \n    print(f\"\\nProcessing: {name}\")\n    print(f\"  Total spent: ₦{spent:,}\")\n    print(f\"  Orders placed: {orders}\")\n    print(f\"  Location: {state}\")\n    print(f\"  Days since last order: {days_since_order}\")\n    \n    # Multi-factor tier assignment\n    if spent >= 500000 and orders >= 10:\n        tier = \"Platinum\"\n        discount = 0.20\n    elif spent >= 250000 and orders >= 5:\n        tier = \"Gold\"\n        discount = 0.15\n    elif spent >= 100000 or orders >= 5:\n        tier = \"Silver\"\n        discount = 0.10\n    else:\n        tier = \"Bronze\"\n        discount = 0.05\n    \n    print(f\"  → Assigned tier: {tier} ({discount*100}% discount)\")\n    \n    # Automated actions based on behavior\n    actions = []\n    \n    if days_since_order > 90:\n        actions.append(\"Send re-engagement email with 15% discount\")\n    elif days_since_order > 30 and tier in [\"Gold\", \"Platinum\"]:\n        actions.append(\"Send VIP exclusive offers\")\n    elif days_since_order <= 7:\n        actions.append(\"Send thank you message and product recommendations\")\n    \n    if state in [\"Lagos\", \"Abuja\"] and spent > 200000:\n        actions.append(\"Invite to exclusive city event\")\n    \n    if orders >= 10 and spent >= 500000:\n        actions.append(\"Assign personal account manager\")\n    \n    if actions:\n        print(f\"  → Automated actions:\")\n        for action in actions:\n            print(f\"    • {action}\")\n    else:\n        print(f\"  → No automated actions required\")",
   "metadata": {},
   "execution_count": null,
   "outputs": []
  },
  {
   "cell_type": "code",
   "source": "# Membership operators (in, not in) - checking categories\nprint(\"=== MEMBERSHIP OPERATORS: IN / NOT IN ===\")\n\n# Product category validation\nvalid_categories = [\"Electronics\", \"Fashion\", \"Home & Garden\", \"Sports\", \"Books\"]\nhigh_demand_categories = [\"Electronics\", \"Fashion\"]\n\n# Sample products to process\nproducts = [\n    {\"name\": \"iPhone 15\", \"category\": \"Electronics\", \"price\": 850000},\n    {\"name\": \"Nike Sneakers\", \"category\": \"Fashion\", \"price\": 45000},\n    {\"name\": \"Garden Hose\", \"category\": \"Automotive\", \"price\": 12000},  # Invalid category\n    {\"name\": \"Cookbook\", \"category\": \"Books\", \"price\": 8000}\n]\n\nprint(\"Product Category Validation:\")\nfor product in products:\n    name = product[\"name\"]\n    category = product[\"category\"]\n    price = product[\"price\"]\n    \n    # Check if category is valid\n    if category in valid_categories:\n        print(f\"✅ {name} ({category}) - Valid category\")\n        \n        # Apply special pricing for high-demand categories\n        if category in high_demand_categories:\n            premium_fee = price * 0.05  # 5% premium for high-demand\n            final_price = price + premium_fee\n            print(f\"   High-demand category: +5% premium = ₦{final_price:,.0f}\")\n        else:\n            print(f\"   Standard pricing: ₦{price:,}\")\n    else:\n        print(f\"❌ {name} ({category}) - Invalid category! Not in approved list\")\n        print(f\"   Valid categories: {', '.join(valid_categories)}\")\n    print()",
   "metadata": {},
   "execution_count": null,
   "outputs": []
  },
  {
   "cell_type": "markdown",
   "source": "## Part 5: Advanced Control Flow & Business Automation\n\n**Excel Connection:** This is like combining multiple Excel functions (IF, AND, OR, VLOOKUP) into automated business processes.\n\nLet's build complete business automation systems using everything we've learned.",
   "metadata": {}
  },
  {
   "cell_type": "code",
   "source": "# Loop control: break and continue\nprint(\"\\n=== LOOP CONTROL: BREAK AND CONTINUE ===\")\n\n# Process sales data, but stop if we hit a major issue\nsales_data = [45000, 67000, 23000, -15000, 89000, 34000]  # Negative = refund/issue\ntotal_sales = 0\nprocessed_orders = 0\n\nprint(\"Processing daily sales data:\")\nfor day, sales in enumerate(sales_data, 1):\n    if sales < 0:\n        print(f\"  Day {day}: ERROR - Negative sales (₦{sales:,}) detected!\")\n        print(f\"  Breaking processing due to data integrity issue.\")\n        break  # Stop processing completely\n    \n    if sales < 30000:\n        print(f\"  Day {day}: Low sales day (₦{sales:,}) - flagged but continuing\")\n        continue  # Skip to next iteration, don't add to totals\n    \n    # Normal processing\n    total_sales += sales\n    processed_orders += 1\n    print(f\"  Day {day}: ₦{sales:,} (Running total: ₦{total_sales:,})\")\n\nprint(f\"\\nProcessing complete:\")\nprint(f\"  Valid sales days processed: {processed_orders}\")\nprint(f\"  Total valid sales: ₦{total_sales:,}\")\nprint(f\"  Average daily sales: ₦{total_sales/processed_orders:,.0f}\" if processed_orders > 0 else \"  No valid sales data\")",
   "metadata": {},
   "execution_count": null,
   "outputs": []
  },
  {
   "cell_type": "code",
   "source": "# while loops - when you don't know how many iterations you need\nprint(\"\\n=== WHILE LOOPS: CONDITION-BASED REPETITION ===\")\n\n# Inventory reorder simulation\ncurrent_stock = 8\nminimum_stock = 25\nreorder_quantity = 20\nweek = 1\n\nprint(f\"Inventory Management Simulation:\")\nprint(f\"Starting stock: {current_stock} units\")\nprint(f\"Minimum stock level: {minimum_stock} units\")\nprint(f\"Reorder quantity: {reorder_quantity} units per order\")\nprint()\n\nwhile current_stock < minimum_stock:\n    print(f\"Week {week}: Stock level {current_stock} is below minimum ({minimum_stock})\")\n    current_stock += reorder_quantity\n    print(f\"         Ordered {reorder_quantity} units. New stock: {current_stock}\")\n    week += 1\n\nprint(f\"\\nFinal result: Stock level {current_stock} is adequate!\")\nprint(f\"Total weeks needed: {week - 1}\")",
   "metadata": {},
   "execution_count": null,
   "outputs": []
  },
  {
   "cell_type": "code",
   "source": "# Common mistakes and debugging tips\nprint(\"\\n=== COMMON MISTAKES & DEBUGGING ===\")\n\nprint(\"1. Using = instead of == in conditions:\")\nprint(\"   ❌ WRONG: if customer_tier = 'VIP':  # This assigns!\")\nprint(\"   ✅ RIGHT: if customer_tier == 'VIP': # This compares!\")\nprint()\n\nprint(\"2. Missing colons in if statements:\")\nprint(\"   ❌ WRONG: if order_value > 50000\")\nprint(\"   ✅ RIGHT: if order_value > 50000:\")\nprint()\n\nprint(\"3. Incorrect indentation:\")\nprint(\"   ❌ WRONG: if condition:\")\nprint(\"   print('This should be indented')  # Same level as if\")\nprint(\"   ✅ RIGHT: if condition:\")\nprint(\"       print('Properly indented!')  # Indented under if\")\nprint()\n\nprint(\"4. Infinite loops:\")\nprint(\"   ❌ DANGEROUS: while True:  # Never ends!\")\nprint(\"   ✅ SAFE: while count < 10:  # Has exit condition\")\nprint()\n\nprint(\"5. Operator precedence confusion:\")\nprint(\"   Expression: 10 + 5 * 2\")\nresult = 10 + 5 * 2\nprint(f\"   Result: {result} (multiplication happens first)\")\nprint(\"   To force addition first: (10 + 5) * 2 =\", (10 + 5) * 2)",
   "metadata": {},
   "execution_count": null,
   "outputs": []
  },
  {
   "cell_type": "markdown",
   "source": "## Part 4: Loops for Repetitive Business Tasks\n\n**Excel Connection:** Loops are like Excel's fill-down formulas, but much more powerful!\n\nWhen you copy a formula down 1000 rows in Excel, you're essentially doing what a loop does in Python.",
   "metadata": {}
  },
  {
   "cell_type": "code",
   "source": "## Summary and Next Steps\n\n🎉 **Congratulations!** You've learned the foundation of Python automation and business logic.\n\n**What you accomplished today:**\n- ✅ Mastered arithmetic operators for business calculations\n- ✅ Used comparison operators and boolean logic for conditions\n- ✅ Built if/elif/else statements for automated decision-making\n- ✅ Created for and while loops for repetitive tasks\n- ✅ Applied membership operators and complex business logic\n- ✅ Built complete business automation systems\n\n**Excel Connection Recap:**\n- Excel arithmetic formulas → Python arithmetic operators\n- Excel nested IF statements → Python if/elif/else chains\n- Excel fill-down formulas → Python for loops\n- Excel complex business rules → Python control structures\n\n**Tomorrow's SQL Session:**\n- Same arithmetic operations using SQL SELECT statements\n- CASE WHEN statements (SQL's if/elif/else equivalent)\n- Same business automation, SQL syntax\n\n**Practice Challenge:**\nBefore the SQL session, try building:\n1. A commission calculator with tiered rates\n2. An inventory reorder system using while loops\n3. A customer scoring system with multiple factors\n4. A pricing engine with seasonal adjustments\n\n*Remember: Every control structure you build automates manual business processes!*",
   "metadata": {},
   "execution_count": null,
   "outputs": []
  },
  {
   "cell_type": "code",
   "execution_count": null,
   "metadata": {},
   "outputs": [],
   "source": [
    "# Business Question 1: Customer Value Analysis\n",
    "print(\"=== CUSTOMER VALUE SEGMENTATION ===\\n\")\n",
    "\n",
    "# Define value tiers using boolean conditions\n",
    "budget_tier = orders_df['order_value'] <= 10000\n",
    "standard_tier = orders_df['order_value'] > 10000\n",
    "premium_tier = orders_df['order_value'] > 50000\n",
    "vip_tier = orders_df['order_value'] > 100000\n",
    "\n",
    "print(\"Customer Value Tiers:\")\n",
    "print(f\"Budget (≤₦10,000): {budget_tier.sum():,} orders\")\n",
    "print(f\"Standard (>₦10,000): {standard_tier.sum():,} orders\")\n",
    "print(f\"Premium (>₦50,000): {premium_tier.sum():,} orders\")\n",
    "print(f\"VIP (>₦100,000): {vip_tier.sum():,} orders\")"
   ]
  },
  {
   "cell_type": "code",
   "execution_count": null,
   "metadata": {},
   "outputs": [],
   "source": [
    "# Business Question 2: Payment Method Analysis\n",
    "print(\"=== PAYMENT METHOD ANALYSIS ===\\n\")\n",
    "\n",
    "# Check different payment methods\n",
    "credit_card_orders = orders_df['payment_type'] == 'credit_card'\n",
    "debit_card_orders = orders_df['payment_type'] == 'debit_card'\n",
    "boleto_orders = orders_df['payment_type'] == 'boleto'\n",
    "voucher_orders = orders_df['payment_type'] == 'voucher'\n",
    "\n",
    "print(\"Payment Method Breakdown:\")\n",
    "print(f\"Credit Card: {credit_card_orders.sum():,} orders\")\n",
    "print(f\"Debit Card: {debit_card_orders.sum():,} orders\")\n",
    "print(f\"Boleto: {boleto_orders.sum():,} orders\")\n",
    "print(f\"Voucher: {voucher_orders.sum():,} orders\")\n",
    "\n",
    "# Calculate percentages\n",
    "total = len(orders_df)\n",
    "print(f\"\\nPayment Preferences:\")\n",
    "print(f\"Credit Card: {(credit_card_orders.sum()/total)*100:.1f}%\")\n",
    "print(f\"Debit Card: {(debit_card_orders.sum()/total)*100:.1f}%\")"
   ]
  },
  {
   "cell_type": "markdown",
   "metadata": {},
   "source": [
    "## Step 5: Practical Exercise - Boolean Detective Work\n",
    "\n",
    "**Your turn!** Let's solve some business mysteries using boolean logic."
   ]
  },
  {
   "cell_type": "code",
   "execution_count": null,
   "metadata": {},
   "outputs": [],
   "source": [
    "# EXERCISE 1: Find the delivery performance issues\n",
    "print(\"=== EXERCISE 1: DELIVERY PERFORMANCE ===\\n\")\n",
    "\n",
    "# TODO: Create boolean conditions to find:\n",
    "# 1. Orders that took more than 7 days to deliver\n",
    "# 2. Orders that were delivered in 2 days or less (excellent service)\n",
    "# 3. Orders that are still in processing status\n",
    "\n",
    "# Your code here:\n",
    "slow_delivery = orders_df['delivery_days'] > 7\n",
    "fast_delivery = orders_df['delivery_days'] <= 2\n",
    "still_processing = orders_df['order_status'] == 'processing'\n",
    "\n",
    "print(f\"Slow delivery (>7 days): {slow_delivery.sum():,} orders\")\n",
    "print(f\"Fast delivery (≤2 days): {fast_delivery.sum():,} orders\")\n",
    "print(f\"Still processing: {still_processing.sum():,} orders\")\n",
    "\n",
    "# Calculate service quality percentage\n",
    "total_delivered = (orders_df['order_status'] == 'delivered').sum()\n",
    "if total_delivered > 0:\n",
    "    fast_percentage = (fast_delivery.sum() / total_delivered) * 100\n",
    "    print(f\"\\n📊 Fast delivery rate: {fast_percentage:.1f}% of delivered orders\")"
   ]
  },
  {
   "cell_type": "code",
   "execution_count": null,
   "metadata": {},
   "outputs": [],
   "source": [
    "# EXERCISE 2: Regional Analysis\n",
    "print(\"=== EXERCISE 2: REGIONAL PERFORMANCE ===\\n\")\n",
    "\n",
    "# TODO: Analyze customer distribution by major Nigerian states\n",
    "# Create boolean conditions for each major state\n",
    "\n",
    "# Your code here:\n",
    "lagos_customers = customers_df['customer_state'] == 'Lagos'\n",
    "abuja_customers = customers_df['customer_state'] == 'Abuja'\n",
    "kano_customers = customers_df['customer_state'] == 'Kano'\n",
    "rivers_customers = customers_df['customer_state'] == 'Rivers'\n",
    "ogun_customers = customers_df['customer_state'] == 'Ogun'\n",
    "\n",
    "print(\"Customer Distribution by State:\")\n",
    "print(f\"Lagos: {lagos_customers.sum():,} customers\")\n",
    "print(f\"Abuja: {abuja_customers.sum():,} customers\")\n",
    "print(f\"Kano: {kano_customers.sum():,} customers\")\n",
    "print(f\"Rivers: {rivers_customers.sum():,} customers\")\n",
    "print(f\"Ogun: {ogun_customers.sum():,} customers\")\n",
    "\n",
    "# Which state has the most customers?\n",
    "total_customers = len(customers_df)\n",
    "lagos_percentage = (lagos_customers.sum() / total_customers) * 100\n",
    "print(f\"\\n🏆 Lagos represents {lagos_percentage:.1f}% of our customer base\")"
   ]
  },
  {
   "cell_type": "markdown",
   "metadata": {},
   "source": [
    "## Step 6: Common Mistakes and How to Avoid Them\n",
    "\n",
    "Let's learn from common boolean logic mistakes:"
   ]
  },
  {
   "cell_type": "code",
   "execution_count": null,
   "metadata": {},
   "outputs": [],
   "source": [
    "# Common Mistake 1: Using = instead of ==\n",
    "print(\"=== COMMON MISTAKES ===\\n\")\n",
    "\n",
    "# ❌ WRONG - This would try to assign 'delivered' to the column\n",
    "# delivered_orders = orders_df['order_status'] = 'delivered'  # DON'T DO THIS!\n",
    "\n",
    "# ✅ CORRECT - Use == for comparison\n",
    "delivered_orders = orders_df['order_status'] == 'delivered'\n",
    "print(f\"✅ Correct: {delivered_orders.sum():,} delivered orders found\")\n",
    "\n",
    "print(\"\\n💡 Remember: = assigns, == compares\")"
   ]
  },
  {
   "cell_type": "code",
   "execution_count": null,
   "metadata": {},
   "outputs": [],
   "source": [
    "# Common Mistake 2: Case sensitivity\n",
    "print(\"=== CASE SENSITIVITY ISSUES ===\\n\")\n",
    "\n",
    "# These will give different results!\n",
    "lagos_exact = customers_df['customer_state'] == 'Lagos'\n",
    "lagos_lower = customers_df['customer_state'] == 'lagos'\n",
    "lagos_upper = customers_df['customer_state'] == 'LAGOS'\n",
    "\n",
    "print(f\"'Lagos' (exact): {lagos_exact.sum():,} matches\")\n",
    "print(f\"'lagos' (lowercase): {lagos_lower.sum():,} matches\")\n",
    "print(f\"'LAGOS' (uppercase): {lagos_upper.sum():,} matches\")\n",
    "\n",
    "print(\"\\n💡 Tip: Always check your data's exact spelling and case!\")"
   ]
  },
  {
   "cell_type": "markdown",
   "metadata": {},
   "source": [
    "## Summary and Next Steps\n",
    "\n",
    "🎉 **Congratulations!** You've learned the foundation of data filtering in Python.\n",
    "\n",
    "**What you accomplished today:**\n",
    "- ✅ Created boolean conditions (True/False logic)\n",
    "- ✅ Used comparison operators (==, !=, >, <, >=, <=)\n",
    "- ✅ Applied boolean logic to real business problems\n",
    "- ✅ Analyzed customer segments and order patterns\n",
    "\n",
    "**Excel Connection Recap:**\n",
    "- Excel IF statements → Python boolean conditions\n",
    "- Excel Custom Filters → Python comparison operators\n",
    "- Excel TRUE/FALSE → Python True/False\n",
    "\n",
    "**Coming up next:**\n",
    "- Combining conditions with AND, OR, NOT (like Excel's complex filters)\n",
    "- Filtering entire DataFrames (like Excel's filtered views)\n",
    "- Advanced filtering techniques that Excel can't match\n",
    "\n",
    "**Practice Challenge:**\n",
    "Before the next notebook, try creating boolean conditions to find:\n",
    "1. Orders with values between ₦25,000 and ₦75,000\n",
    "2. Customers from states other than Lagos\n",
    "3. Orders that were delivered in exactly 3 days\n",
    "\n",
    "*Remember: Every boolean condition you create is a business question you can answer instantly!*"
   ]
  }
 ],
 "metadata": {
  "kernelspec": {
   "display_name": "Python 3",
   "language": "python",
   "name": "python3"
  },
  "language_info": {
   "codemirror_mode": {
    "name": "ipython",
    "version": 3
   },
   "file_extension": ".py",
   "name": "python",
   "nbconvert_exporter": "python",
   "pygments_lexer": "ipython3",
   "version": "3.8.5"
  }
 },
 "nbformat": 4,
 "nbformat_minor": 4
}